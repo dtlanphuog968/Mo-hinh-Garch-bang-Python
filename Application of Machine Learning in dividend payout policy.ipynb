{
  "nbformat": 4,
  "nbformat_minor": 0,
  "metadata": {
    "colab": {
      "name": "K194141741_Đỗ Thị Lan Phương.ipynb",
      "provenance": []
    },
    "kernelspec": {
      "name": "python3",
      "display_name": "Python 3"
    },
    "language_info": {
      "name": "python"
    }
  },
  "cells": [
    {
      "cell_type": "markdown",
      "source": [
        "**Import Library**"
      ],
      "metadata": {
        "id": "DBQ9cwagDvHf"
      }
    },
    {
      "cell_type": "code",
      "execution_count": null,
      "metadata": {
        "id": "hU1HBjbPPxEl"
      },
      "outputs": [],
      "source": [
        "import numpy as np\n",
        "import matplotlib.pyplot as plt\n",
        "import pandas as pd\n",
        "import seaborn as sns #vẽ hình\n",
        "from sklearn.preprocessing import LabelEncoder\n",
        "from sklearn.linear_model import LogisticRegression\n",
        "from sklearn.neighbors import KNeighborsClassifier\n",
        "from xgboost import XGBClassifier\n",
        "from sklearn.metrics import classification_report, confusion_matrix, accuracy_score, roc_auc_score, recall_score, roc_curve\n",
        "from sklearn.model_selection import train_test_split, KFold, cross_val_score,GridSearchCV,StratifiedKFold \n",
        "from sklearn import metrics\n",
        "from sklearn.preprocessing import StandardScaler\n",
        "from numpy import sqrt, argmax\n",
        "from matplotlib import pyplot"
      ]
    },
    {
      "cell_type": "markdown",
      "source": [
        "**Load Dataset**"
      ],
      "metadata": {
        "id": "z7C2K6rsD09n"
      }
    },
    {
      "cell_type": "code",
      "source": [
        "df = pd.read_excel('K194141741.xlsx')"
      ],
      "metadata": {
        "id": "KJloTXMnQr5u"
      },
      "execution_count": null,
      "outputs": []
    },
    {
      "cell_type": "code",
      "source": [
        "df = df.iloc[:-1,:]\n",
        "df"
      ],
      "metadata": {
        "colab": {
          "base_uri": "https://localhost:8080/",
          "height": 939
        },
        "id": "FH47LTDpQzYU",
        "outputId": "9e35b902-36be-4b35-c239-27e1dfa536e5"
      },
      "execution_count": null,
      "outputs": [
        {
          "output_type": "execute_result",
          "data": {
            "text/plain": [
              "     Unnamed: 0 Identifier                                       Company Name  \\\n",
              "0           1.0     CHP.HM                             Central Hydropower JSC   \n",
              "1           2.0     POM.HM                                  Pomina Steel Corp   \n",
              "2           3.0     V21.HN                                   Vinaconex 21 JSC   \n",
              "3           4.0     LIG.HN                                      Licogi 13 JSC   \n",
              "4           5.0     MCC.HN                         High Grade Brick Tile Corp   \n",
              "..          ...        ...                                                ...   \n",
              "747       748.0     DAG.HM                           Dong A Plastic Group JSC   \n",
              "748       749.0     PVL.HN                       Viet Property Investment JSC   \n",
              "749       750.0     CCI.HM  CuChi Commercial and Industrial Developing Inv...   \n",
              "750       751.0     PPP.HN                       Phong Phu Pharmaceutical JSC   \n",
              "751       752.0     IJC.HM             Becamex Infrastructure Development JSC   \n",
              "\n",
              "    Country of Exchange             Exchange Name TRBC Economic Sector Name  \\\n",
              "0               Vietnam  HOCHIMINH STOCK EXCHANGE                 Utilities   \n",
              "1               Vietnam  HOCHIMINH STOCK EXCHANGE           Basic Materials   \n",
              "2               Vietnam      HANOI STOCK EXCHANGE               Industrials   \n",
              "3               Vietnam      HANOI STOCK EXCHANGE               Industrials   \n",
              "4               Vietnam      HANOI STOCK EXCHANGE           Basic Materials   \n",
              "..                  ...                       ...                       ...   \n",
              "747             Vietnam  HOCHIMINH STOCK EXCHANGE        Consumer Cyclicals   \n",
              "748             Vietnam      HANOI STOCK EXCHANGE               Real Estate   \n",
              "749             Vietnam  HOCHIMINH STOCK EXCHANGE                    Energy   \n",
              "750             Vietnam      HANOI STOCK EXCHANGE                Healthcare   \n",
              "751             Vietnam  HOCHIMINH STOCK EXCHANGE               Real Estate   \n",
              "\n",
              "     Total Assets      ROA   Total Current Assets    Total Debt  ...  \\\n",
              "0    3.272703e+12  0.071141          3.953595e+11  1.261980e+12  ...   \n",
              "1    1.268490e+13  0.017315          7.856386e+12  6.513491e+12  ...   \n",
              "2    3.355799e+11  0.009606          2.428419e+11  4.043566e+10  ...   \n",
              "3    5.192755e+12  0.008785          3.480836e+12  1.469638e+12  ...   \n",
              "4    9.295714e+10  0.023925          2.620235e+10  4.000000e+09  ...   \n",
              "..            ...       ...                   ...           ...  ...   \n",
              "747  2.030407e+12  0.004559          1.362451e+12  9.706947e+11  ...   \n",
              "748  4.094021e+11  0.042380          1.598911e+11  0.000000e+00  ...   \n",
              "749  6.891628e+11  0.047124          4.642601e+11  0.000000e+00  ...   \n",
              "750  1.560300e+11  0.112094          7.077550e+10  2.000000e+09  ...   \n",
              "751  6.808654e+12  0.091004          4.808121e+12  1.123168e+12  ...   \n",
              "\n",
              "     Cash Dividend Paid  Company Market Cap  \\\n",
              "0          2.355239e+11        3.342263e+12   \n",
              "1                   NaN        4.080663e+12   \n",
              "2                   NaN        1.667971e+11   \n",
              "3          0.000000e+00        1.242262e+12   \n",
              "4          0.000000e+00        5.634320e+10   \n",
              "..                  ...                 ...   \n",
              "747        6.301148e+09        9.113111e+11   \n",
              "748                 NaN        8.000000e+11   \n",
              "749        2.253379e+10        4.394047e+11   \n",
              "750        5.970431e+09        1.548798e+11   \n",
              "751        3.256583e+11        6.795146e+12   \n",
              "\n",
              "     Shares Held By Strategic Investors  Free Cash Flow  Total Revenue  \\\n",
              "0                           101679422.0    2.235527e+11   7.874475e+11   \n",
              "1                           172835626.0    4.820811e+11   1.399925e+13   \n",
              "2                             2549492.0    4.991456e+09   1.255000e+11   \n",
              "3                            29453147.0   -1.271862e+11   2.439778e+12   \n",
              "4                             3875828.0   -2.091286e+09   4.095361e+10   \n",
              "..                                  ...             ...            ...   \n",
              "747                          32750309.0    4.184887e+10   1.954159e+12   \n",
              "748                           1319500.0    1.674845e+10   2.374167e+10   \n",
              "749                          10909860.0    9.173168e+09   2.991550e+11   \n",
              "750                           6004556.0    1.591114e+10   1.332893e+11   \n",
              "751                         108033503.0    3.003108e+11   2.601723e+12   \n",
              "\n",
              "     Accounts Receivable  Accounts Payable  Total Common Shares Outstanding  \\\n",
              "0           2.961941e+11      3.242776e+10                      146912670.0   \n",
              "1           1.407948e+12      1.336917e+12                      278543600.0   \n",
              "2           6.409691e+10      5.232899e+10                       11999790.0   \n",
              "3           9.899979e+11      9.727359e+11                       64034120.0   \n",
              "4           6.293668e+09      1.047541e+10                        4986120.0   \n",
              "..                   ...               ...                              ...   \n",
              "747         2.255883e+11      1.136889e+11                       59562130.0   \n",
              "748        -4.860675e+10      1.827808e+10                       50000000.0   \n",
              "749         6.380239e+09      7.797998e+08                       17541110.0   \n",
              "750         1.044597e+10      1.637790e+10                        8799990.0   \n",
              "751         4.644238e+11      8.158368e+11                      217097320.0   \n",
              "\n",
              "     Price close          EBIT  \n",
              "0       21432.43  4.202629e+11  \n",
              "1       14650.00  3.492673e+11  \n",
              "2       13900.00  6.638465e+09  \n",
              "3       19400.00  1.464066e+11  \n",
              "4       10923.34  2.817838e+09  \n",
              "..           ...           ...  \n",
              "747     23616.51  1.634842e+10  \n",
              "748     16420.07  1.287728e+10  \n",
              "749     31300.00  5.161907e+11  \n",
              "750          NaN           NaN  \n",
              "751          NaN           NaN  \n",
              "\n",
              "[752 rows x 30 columns]"
            ],
            "text/html": [
              "\n",
              "  <div id=\"df-58c71ae7-05a8-4887-a03c-fdd513a58b30\">\n",
              "    <div class=\"colab-df-container\">\n",
              "      <div>\n",
              "<style scoped>\n",
              "    .dataframe tbody tr th:only-of-type {\n",
              "        vertical-align: middle;\n",
              "    }\n",
              "\n",
              "    .dataframe tbody tr th {\n",
              "        vertical-align: top;\n",
              "    }\n",
              "\n",
              "    .dataframe thead th {\n",
              "        text-align: right;\n",
              "    }\n",
              "</style>\n",
              "<table border=\"1\" class=\"dataframe\">\n",
              "  <thead>\n",
              "    <tr style=\"text-align: right;\">\n",
              "      <th></th>\n",
              "      <th>Unnamed: 0</th>\n",
              "      <th>Identifier</th>\n",
              "      <th>Company Name</th>\n",
              "      <th>Country of Exchange</th>\n",
              "      <th>Exchange Name</th>\n",
              "      <th>TRBC Economic Sector Name</th>\n",
              "      <th>Total Assets</th>\n",
              "      <th>ROA</th>\n",
              "      <th>Total Current Assets</th>\n",
              "      <th>Total Debt</th>\n",
              "      <th>...</th>\n",
              "      <th>Cash Dividend Paid</th>\n",
              "      <th>Company Market Cap</th>\n",
              "      <th>Shares Held By Strategic Investors</th>\n",
              "      <th>Free Cash Flow</th>\n",
              "      <th>Total Revenue</th>\n",
              "      <th>Accounts Receivable</th>\n",
              "      <th>Accounts Payable</th>\n",
              "      <th>Total Common Shares Outstanding</th>\n",
              "      <th>Price close</th>\n",
              "      <th>EBIT</th>\n",
              "    </tr>\n",
              "  </thead>\n",
              "  <tbody>\n",
              "    <tr>\n",
              "      <th>0</th>\n",
              "      <td>1.0</td>\n",
              "      <td>CHP.HM</td>\n",
              "      <td>Central Hydropower JSC</td>\n",
              "      <td>Vietnam</td>\n",
              "      <td>HOCHIMINH STOCK EXCHANGE</td>\n",
              "      <td>Utilities</td>\n",
              "      <td>3.272703e+12</td>\n",
              "      <td>0.071141</td>\n",
              "      <td>3.953595e+11</td>\n",
              "      <td>1.261980e+12</td>\n",
              "      <td>...</td>\n",
              "      <td>2.355239e+11</td>\n",
              "      <td>3.342263e+12</td>\n",
              "      <td>101679422.0</td>\n",
              "      <td>2.235527e+11</td>\n",
              "      <td>7.874475e+11</td>\n",
              "      <td>2.961941e+11</td>\n",
              "      <td>3.242776e+10</td>\n",
              "      <td>146912670.0</td>\n",
              "      <td>21432.43</td>\n",
              "      <td>4.202629e+11</td>\n",
              "    </tr>\n",
              "    <tr>\n",
              "      <th>1</th>\n",
              "      <td>2.0</td>\n",
              "      <td>POM.HM</td>\n",
              "      <td>Pomina Steel Corp</td>\n",
              "      <td>Vietnam</td>\n",
              "      <td>HOCHIMINH STOCK EXCHANGE</td>\n",
              "      <td>Basic Materials</td>\n",
              "      <td>1.268490e+13</td>\n",
              "      <td>0.017315</td>\n",
              "      <td>7.856386e+12</td>\n",
              "      <td>6.513491e+12</td>\n",
              "      <td>...</td>\n",
              "      <td>NaN</td>\n",
              "      <td>4.080663e+12</td>\n",
              "      <td>172835626.0</td>\n",
              "      <td>4.820811e+11</td>\n",
              "      <td>1.399925e+13</td>\n",
              "      <td>1.407948e+12</td>\n",
              "      <td>1.336917e+12</td>\n",
              "      <td>278543600.0</td>\n",
              "      <td>14650.00</td>\n",
              "      <td>3.492673e+11</td>\n",
              "    </tr>\n",
              "    <tr>\n",
              "      <th>2</th>\n",
              "      <td>3.0</td>\n",
              "      <td>V21.HN</td>\n",
              "      <td>Vinaconex 21 JSC</td>\n",
              "      <td>Vietnam</td>\n",
              "      <td>HANOI STOCK EXCHANGE</td>\n",
              "      <td>Industrials</td>\n",
              "      <td>3.355799e+11</td>\n",
              "      <td>0.009606</td>\n",
              "      <td>2.428419e+11</td>\n",
              "      <td>4.043566e+10</td>\n",
              "      <td>...</td>\n",
              "      <td>NaN</td>\n",
              "      <td>1.667971e+11</td>\n",
              "      <td>2549492.0</td>\n",
              "      <td>4.991456e+09</td>\n",
              "      <td>1.255000e+11</td>\n",
              "      <td>6.409691e+10</td>\n",
              "      <td>5.232899e+10</td>\n",
              "      <td>11999790.0</td>\n",
              "      <td>13900.00</td>\n",
              "      <td>6.638465e+09</td>\n",
              "    </tr>\n",
              "    <tr>\n",
              "      <th>3</th>\n",
              "      <td>4.0</td>\n",
              "      <td>LIG.HN</td>\n",
              "      <td>Licogi 13 JSC</td>\n",
              "      <td>Vietnam</td>\n",
              "      <td>HANOI STOCK EXCHANGE</td>\n",
              "      <td>Industrials</td>\n",
              "      <td>5.192755e+12</td>\n",
              "      <td>0.008785</td>\n",
              "      <td>3.480836e+12</td>\n",
              "      <td>1.469638e+12</td>\n",
              "      <td>...</td>\n",
              "      <td>0.000000e+00</td>\n",
              "      <td>1.242262e+12</td>\n",
              "      <td>29453147.0</td>\n",
              "      <td>-1.271862e+11</td>\n",
              "      <td>2.439778e+12</td>\n",
              "      <td>9.899979e+11</td>\n",
              "      <td>9.727359e+11</td>\n",
              "      <td>64034120.0</td>\n",
              "      <td>19400.00</td>\n",
              "      <td>1.464066e+11</td>\n",
              "    </tr>\n",
              "    <tr>\n",
              "      <th>4</th>\n",
              "      <td>5.0</td>\n",
              "      <td>MCC.HN</td>\n",
              "      <td>High Grade Brick Tile Corp</td>\n",
              "      <td>Vietnam</td>\n",
              "      <td>HANOI STOCK EXCHANGE</td>\n",
              "      <td>Basic Materials</td>\n",
              "      <td>9.295714e+10</td>\n",
              "      <td>0.023925</td>\n",
              "      <td>2.620235e+10</td>\n",
              "      <td>4.000000e+09</td>\n",
              "      <td>...</td>\n",
              "      <td>0.000000e+00</td>\n",
              "      <td>5.634320e+10</td>\n",
              "      <td>3875828.0</td>\n",
              "      <td>-2.091286e+09</td>\n",
              "      <td>4.095361e+10</td>\n",
              "      <td>6.293668e+09</td>\n",
              "      <td>1.047541e+10</td>\n",
              "      <td>4986120.0</td>\n",
              "      <td>10923.34</td>\n",
              "      <td>2.817838e+09</td>\n",
              "    </tr>\n",
              "    <tr>\n",
              "      <th>...</th>\n",
              "      <td>...</td>\n",
              "      <td>...</td>\n",
              "      <td>...</td>\n",
              "      <td>...</td>\n",
              "      <td>...</td>\n",
              "      <td>...</td>\n",
              "      <td>...</td>\n",
              "      <td>...</td>\n",
              "      <td>...</td>\n",
              "      <td>...</td>\n",
              "      <td>...</td>\n",
              "      <td>...</td>\n",
              "      <td>...</td>\n",
              "      <td>...</td>\n",
              "      <td>...</td>\n",
              "      <td>...</td>\n",
              "      <td>...</td>\n",
              "      <td>...</td>\n",
              "      <td>...</td>\n",
              "      <td>...</td>\n",
              "      <td>...</td>\n",
              "    </tr>\n",
              "    <tr>\n",
              "      <th>747</th>\n",
              "      <td>748.0</td>\n",
              "      <td>DAG.HM</td>\n",
              "      <td>Dong A Plastic Group JSC</td>\n",
              "      <td>Vietnam</td>\n",
              "      <td>HOCHIMINH STOCK EXCHANGE</td>\n",
              "      <td>Consumer Cyclicals</td>\n",
              "      <td>2.030407e+12</td>\n",
              "      <td>0.004559</td>\n",
              "      <td>1.362451e+12</td>\n",
              "      <td>9.706947e+11</td>\n",
              "      <td>...</td>\n",
              "      <td>6.301148e+09</td>\n",
              "      <td>9.113111e+11</td>\n",
              "      <td>32750309.0</td>\n",
              "      <td>4.184887e+10</td>\n",
              "      <td>1.954159e+12</td>\n",
              "      <td>2.255883e+11</td>\n",
              "      <td>1.136889e+11</td>\n",
              "      <td>59562130.0</td>\n",
              "      <td>23616.51</td>\n",
              "      <td>1.634842e+10</td>\n",
              "    </tr>\n",
              "    <tr>\n",
              "      <th>748</th>\n",
              "      <td>749.0</td>\n",
              "      <td>PVL.HN</td>\n",
              "      <td>Viet Property Investment JSC</td>\n",
              "      <td>Vietnam</td>\n",
              "      <td>HANOI STOCK EXCHANGE</td>\n",
              "      <td>Real Estate</td>\n",
              "      <td>4.094021e+11</td>\n",
              "      <td>0.042380</td>\n",
              "      <td>1.598911e+11</td>\n",
              "      <td>0.000000e+00</td>\n",
              "      <td>...</td>\n",
              "      <td>NaN</td>\n",
              "      <td>8.000000e+11</td>\n",
              "      <td>1319500.0</td>\n",
              "      <td>1.674845e+10</td>\n",
              "      <td>2.374167e+10</td>\n",
              "      <td>-4.860675e+10</td>\n",
              "      <td>1.827808e+10</td>\n",
              "      <td>50000000.0</td>\n",
              "      <td>16420.07</td>\n",
              "      <td>1.287728e+10</td>\n",
              "    </tr>\n",
              "    <tr>\n",
              "      <th>749</th>\n",
              "      <td>750.0</td>\n",
              "      <td>CCI.HM</td>\n",
              "      <td>CuChi Commercial and Industrial Developing Inv...</td>\n",
              "      <td>Vietnam</td>\n",
              "      <td>HOCHIMINH STOCK EXCHANGE</td>\n",
              "      <td>Energy</td>\n",
              "      <td>6.891628e+11</td>\n",
              "      <td>0.047124</td>\n",
              "      <td>4.642601e+11</td>\n",
              "      <td>0.000000e+00</td>\n",
              "      <td>...</td>\n",
              "      <td>2.253379e+10</td>\n",
              "      <td>4.394047e+11</td>\n",
              "      <td>10909860.0</td>\n",
              "      <td>9.173168e+09</td>\n",
              "      <td>2.991550e+11</td>\n",
              "      <td>6.380239e+09</td>\n",
              "      <td>7.797998e+08</td>\n",
              "      <td>17541110.0</td>\n",
              "      <td>31300.00</td>\n",
              "      <td>5.161907e+11</td>\n",
              "    </tr>\n",
              "    <tr>\n",
              "      <th>750</th>\n",
              "      <td>751.0</td>\n",
              "      <td>PPP.HN</td>\n",
              "      <td>Phong Phu Pharmaceutical JSC</td>\n",
              "      <td>Vietnam</td>\n",
              "      <td>HANOI STOCK EXCHANGE</td>\n",
              "      <td>Healthcare</td>\n",
              "      <td>1.560300e+11</td>\n",
              "      <td>0.112094</td>\n",
              "      <td>7.077550e+10</td>\n",
              "      <td>2.000000e+09</td>\n",
              "      <td>...</td>\n",
              "      <td>5.970431e+09</td>\n",
              "      <td>1.548798e+11</td>\n",
              "      <td>6004556.0</td>\n",
              "      <td>1.591114e+10</td>\n",
              "      <td>1.332893e+11</td>\n",
              "      <td>1.044597e+10</td>\n",
              "      <td>1.637790e+10</td>\n",
              "      <td>8799990.0</td>\n",
              "      <td>NaN</td>\n",
              "      <td>NaN</td>\n",
              "    </tr>\n",
              "    <tr>\n",
              "      <th>751</th>\n",
              "      <td>752.0</td>\n",
              "      <td>IJC.HM</td>\n",
              "      <td>Becamex Infrastructure Development JSC</td>\n",
              "      <td>Vietnam</td>\n",
              "      <td>HOCHIMINH STOCK EXCHANGE</td>\n",
              "      <td>Real Estate</td>\n",
              "      <td>6.808654e+12</td>\n",
              "      <td>0.091004</td>\n",
              "      <td>4.808121e+12</td>\n",
              "      <td>1.123168e+12</td>\n",
              "      <td>...</td>\n",
              "      <td>3.256583e+11</td>\n",
              "      <td>6.795146e+12</td>\n",
              "      <td>108033503.0</td>\n",
              "      <td>3.003108e+11</td>\n",
              "      <td>2.601723e+12</td>\n",
              "      <td>4.644238e+11</td>\n",
              "      <td>8.158368e+11</td>\n",
              "      <td>217097320.0</td>\n",
              "      <td>NaN</td>\n",
              "      <td>NaN</td>\n",
              "    </tr>\n",
              "  </tbody>\n",
              "</table>\n",
              "<p>752 rows × 30 columns</p>\n",
              "</div>\n",
              "      <button class=\"colab-df-convert\" onclick=\"convertToInteractive('df-58c71ae7-05a8-4887-a03c-fdd513a58b30')\"\n",
              "              title=\"Convert this dataframe to an interactive table.\"\n",
              "              style=\"display:none;\">\n",
              "        \n",
              "  <svg xmlns=\"http://www.w3.org/2000/svg\" height=\"24px\"viewBox=\"0 0 24 24\"\n",
              "       width=\"24px\">\n",
              "    <path d=\"M0 0h24v24H0V0z\" fill=\"none\"/>\n",
              "    <path d=\"M18.56 5.44l.94 2.06.94-2.06 2.06-.94-2.06-.94-.94-2.06-.94 2.06-2.06.94zm-11 1L8.5 8.5l.94-2.06 2.06-.94-2.06-.94L8.5 2.5l-.94 2.06-2.06.94zm10 10l.94 2.06.94-2.06 2.06-.94-2.06-.94-.94-2.06-.94 2.06-2.06.94z\"/><path d=\"M17.41 7.96l-1.37-1.37c-.4-.4-.92-.59-1.43-.59-.52 0-1.04.2-1.43.59L10.3 9.45l-7.72 7.72c-.78.78-.78 2.05 0 2.83L4 21.41c.39.39.9.59 1.41.59.51 0 1.02-.2 1.41-.59l7.78-7.78 2.81-2.81c.8-.78.8-2.07 0-2.86zM5.41 20L4 18.59l7.72-7.72 1.47 1.35L5.41 20z\"/>\n",
              "  </svg>\n",
              "      </button>\n",
              "      \n",
              "  <style>\n",
              "    .colab-df-container {\n",
              "      display:flex;\n",
              "      flex-wrap:wrap;\n",
              "      gap: 12px;\n",
              "    }\n",
              "\n",
              "    .colab-df-convert {\n",
              "      background-color: #E8F0FE;\n",
              "      border: none;\n",
              "      border-radius: 50%;\n",
              "      cursor: pointer;\n",
              "      display: none;\n",
              "      fill: #1967D2;\n",
              "      height: 32px;\n",
              "      padding: 0 0 0 0;\n",
              "      width: 32px;\n",
              "    }\n",
              "\n",
              "    .colab-df-convert:hover {\n",
              "      background-color: #E2EBFA;\n",
              "      box-shadow: 0px 1px 2px rgba(60, 64, 67, 0.3), 0px 1px 3px 1px rgba(60, 64, 67, 0.15);\n",
              "      fill: #174EA6;\n",
              "    }\n",
              "\n",
              "    [theme=dark] .colab-df-convert {\n",
              "      background-color: #3B4455;\n",
              "      fill: #D2E3FC;\n",
              "    }\n",
              "\n",
              "    [theme=dark] .colab-df-convert:hover {\n",
              "      background-color: #434B5C;\n",
              "      box-shadow: 0px 1px 3px 1px rgba(0, 0, 0, 0.15);\n",
              "      filter: drop-shadow(0px 1px 2px rgba(0, 0, 0, 0.3));\n",
              "      fill: #FFFFFF;\n",
              "    }\n",
              "  </style>\n",
              "\n",
              "      <script>\n",
              "        const buttonEl =\n",
              "          document.querySelector('#df-58c71ae7-05a8-4887-a03c-fdd513a58b30 button.colab-df-convert');\n",
              "        buttonEl.style.display =\n",
              "          google.colab.kernel.accessAllowed ? 'block' : 'none';\n",
              "\n",
              "        async function convertToInteractive(key) {\n",
              "          const element = document.querySelector('#df-58c71ae7-05a8-4887-a03c-fdd513a58b30');\n",
              "          const dataTable =\n",
              "            await google.colab.kernel.invokeFunction('convertToInteractive',\n",
              "                                                     [key], {});\n",
              "          if (!dataTable) return;\n",
              "\n",
              "          const docLinkHtml = 'Like what you see? Visit the ' +\n",
              "            '<a target=\"_blank\" href=https://colab.research.google.com/notebooks/data_table.ipynb>data table notebook</a>'\n",
              "            + ' to learn more about interactive tables.';\n",
              "          element.innerHTML = '';\n",
              "          dataTable['output_type'] = 'display_data';\n",
              "          await google.colab.output.renderOutput(dataTable, element);\n",
              "          const docLink = document.createElement('div');\n",
              "          docLink.innerHTML = docLinkHtml;\n",
              "          element.appendChild(docLink);\n",
              "        }\n",
              "      </script>\n",
              "    </div>\n",
              "  </div>\n",
              "  "
            ]
          },
          "metadata": {},
          "execution_count": 3
        }
      ]
    },
    {
      "cell_type": "code",
      "source": [
        "# Count the number of sectors in industry\n",
        "df['TRBC Economic Sector Name'].value_counts()"
      ],
      "metadata": {
        "colab": {
          "base_uri": "https://localhost:8080/"
        },
        "id": "dAbst693RaRW",
        "outputId": "b66df13e-aa34-4043-ae1a-c1433dae8a34"
      },
      "execution_count": null,
      "outputs": [
        {
          "output_type": "execute_result",
          "data": {
            "text/plain": [
              "Industrials               200\n",
              "Basic Materials           134\n",
              "Consumer Cyclicals         91\n",
              "Real Estate                81\n",
              "Consumer Non-Cyclicals     70\n",
              "Financials                 56\n",
              "Energy                     44\n",
              "Utilities                  36\n",
              "Healthcare                 21\n",
              "Technology                 19\n",
              "Name: TRBC Economic Sector Name, dtype: int64"
            ]
          },
          "metadata": {},
          "execution_count": 4
        }
      ]
    },
    {
      "cell_type": "code",
      "source": [
        "# Get non-financial firms \n",
        "list_industry = ['Industrials', 'Basic Materials', 'Consumer Cyclicals', 'Consumer Non-Cyclicals', 'Utilities', 'Technology', 'Energy']\n",
        "df = df[df['TRBC Economic Sector Name'].isin(list_industry)]"
      ],
      "metadata": {
        "id": "hP_e2tILRbrl"
      },
      "execution_count": null,
      "outputs": []
    },
    {
      "cell_type": "code",
      "source": [
        "# Count the number of firms in 2 HOSE and HNX\n",
        "df['Exchange Name'].value_counts()"
      ],
      "metadata": {
        "colab": {
          "base_uri": "https://localhost:8080/"
        },
        "id": "5rAJXTX_RV3P",
        "outputId": "e88411b1-58d2-4547-f14a-c92d14ff7cb2"
      },
      "execution_count": null,
      "outputs": [
        {
          "output_type": "execute_result",
          "data": {
            "text/plain": [
              "HOCHIMINH STOCK EXCHANGE    299\n",
              "HANOI STOCK EXCHANGE        295\n",
              "Name: Exchange Name, dtype: int64"
            ]
          },
          "metadata": {},
          "execution_count": 6
        }
      ]
    },
    {
      "cell_type": "code",
      "source": [
        "df.columns"
      ],
      "metadata": {
        "colab": {
          "base_uri": "https://localhost:8080/"
        },
        "id": "1uvIN2c9RdXd",
        "outputId": "d5ec72c1-f07a-456d-ef95-1dd7abf478d7"
      },
      "execution_count": null,
      "outputs": [
        {
          "output_type": "execute_result",
          "data": {
            "text/plain": [
              "Index(['Unnamed: 0', 'Identifier', 'Company Name', 'Country of Exchange',\n",
              "       'Exchange Name', 'TRBC Economic Sector Name', 'Total Assets', 'ROA ',\n",
              "       'Total Current Assets', 'Total Debt', 'Total Equity', 'Fixed Assets',\n",
              "       'Cash from Operating Activities', 'Cash from Financing Activities',\n",
              "       'Cash from Investing Activities', 'Price To Book Value Per Share ',\n",
              "       'Depreciation', 'Total Current Liabilities', 'Retained Earnings ',\n",
              "       'Cash', 'Cash Dividend Paid', 'Company Market Cap',\n",
              "       'Shares Held By Strategic Investors', 'Free Cash Flow', 'Total Revenue',\n",
              "       'Accounts Receivable', 'Accounts Payable',\n",
              "       'Total Common Shares Outstanding', 'Price close', 'EBIT'],\n",
              "      dtype='object')"
            ]
          },
          "metadata": {},
          "execution_count": 7
        }
      ]
    },
    {
      "cell_type": "code",
      "source": [
        "# Filter the necessary columns involved in calculating the independent features \n",
        "columns = ['Identifier', 'Exchange Name', 'TRBC Economic Sector Name', 'Total Assets', 'ROA ',\n",
        "       'Total Current Assets', 'Total Debt', 'Total Equity', 'Fixed Assets',\n",
        "       'Total Current Liabilities', 'Retained Earnings ',\n",
        "       'Cash', 'Cash Dividend Paid', 'Company Market Cap', 'Free Cash Flow', 'Total Revenue',\n",
        "       'Accounts Receivable', 'Accounts Payable', 'Total Common Shares Outstanding']\n",
        "data = df[columns]"
      ],
      "metadata": {
        "id": "TDpOyoJeRe0c"
      },
      "execution_count": null,
      "outputs": []
    },
    {
      "cell_type": "code",
      "source": [
        "# Information of dataset\n",
        "data.info()"
      ],
      "metadata": {
        "colab": {
          "base_uri": "https://localhost:8080/"
        },
        "id": "_AO2IJz6RkBu",
        "outputId": "bbbf26fa-d951-422c-a7d6-f4c1ccaa4c80"
      },
      "execution_count": null,
      "outputs": [
        {
          "output_type": "stream",
          "name": "stdout",
          "text": [
            "<class 'pandas.core.frame.DataFrame'>\n",
            "Int64Index: 594 entries, 0 to 749\n",
            "Data columns (total 19 columns):\n",
            " #   Column                           Non-Null Count  Dtype  \n",
            "---  ------                           --------------  -----  \n",
            " 0   Identifier                       594 non-null    object \n",
            " 1   Exchange Name                    594 non-null    object \n",
            " 2   TRBC Economic Sector Name        594 non-null    object \n",
            " 3   Total Assets                     590 non-null    float64\n",
            " 4   ROA                              583 non-null    float64\n",
            " 5   Total Current Assets             590 non-null    float64\n",
            " 6   Total Debt                       582 non-null    float64\n",
            " 7   Total Equity                     590 non-null    float64\n",
            " 8   Fixed Assets                     588 non-null    float64\n",
            " 9   Total Current Liabilities        590 non-null    float64\n",
            " 10  Retained Earnings                589 non-null    float64\n",
            " 11  Cash                             590 non-null    float64\n",
            " 12  Cash Dividend Paid               431 non-null    float64\n",
            " 13  Company Market Cap               592 non-null    float64\n",
            " 14  Free Cash Flow                   581 non-null    float64\n",
            " 15  Total Revenue                    590 non-null    float64\n",
            " 16  Accounts Receivable              590 non-null    float64\n",
            " 17  Accounts Payable                 587 non-null    float64\n",
            " 18  Total Common Shares Outstanding  584 non-null    float64\n",
            "dtypes: float64(16), object(3)\n",
            "memory usage: 92.8+ KB\n"
          ]
        }
      ]
    },
    {
      "cell_type": "markdown",
      "source": [
        "**Data processing**"
      ],
      "metadata": {
        "id": "aDSPWahBRuko"
      }
    },
    {
      "cell_type": "code",
      "source": [
        "# Fill na\n",
        "col = ['Total Assets', 'ROA ', 'Total Current Assets', 'Total Equity', 'Fixed Assets',\n",
        "       'Total Current Liabilities', 'Retained Earnings ',\n",
        "       'Cash', 'Company Market Cap', 'Free Cash Flow', 'Total Revenue',\n",
        "       'Accounts Receivable', 'Accounts Payable']\n",
        "col1 = ['Total Debt', 'Cash Dividend Paid']\n",
        "\n",
        "data[col] = data[col].fillna(data[col].mean())\n",
        "data[col1] = data[col1].fillna(0)\n",
        "data['Total Common Shares Outstanding'] = data['Total Common Shares Outstanding'].fillna(data['Total Common Shares Outstanding'].median())"
      ],
      "metadata": {
        "colab": {
          "base_uri": "https://localhost:8080/"
        },
        "id": "leiDRg4GRnfE",
        "outputId": "e23f9bfe-178f-459c-9960-343fe3ad6b00"
      },
      "execution_count": null,
      "outputs": [
        {
          "output_type": "stream",
          "name": "stderr",
          "text": [
            "/usr/local/lib/python3.7/dist-packages/pandas/core/frame.py:3641: SettingWithCopyWarning: \n",
            "A value is trying to be set on a copy of a slice from a DataFrame.\n",
            "Try using .loc[row_indexer,col_indexer] = value instead\n",
            "\n",
            "See the caveats in the documentation: https://pandas.pydata.org/pandas-docs/stable/user_guide/indexing.html#returning-a-view-versus-a-copy\n",
            "  self[k1] = value[k2]\n",
            "/usr/local/lib/python3.7/dist-packages/ipykernel_launcher.py:10: SettingWithCopyWarning: \n",
            "A value is trying to be set on a copy of a slice from a DataFrame.\n",
            "Try using .loc[row_indexer,col_indexer] = value instead\n",
            "\n",
            "See the caveats in the documentation: https://pandas.pydata.org/pandas-docs/stable/user_guide/indexing.html#returning-a-view-versus-a-copy\n",
            "  # Remove the CWD from sys.path while we load stuff.\n"
          ]
        }
      ]
    },
    {
      "cell_type": "code",
      "source": [
        "# Convert into correct type\n",
        "data['Total Common Shares Outstanding'] = data['Total Common Shares Outstanding'].astype(int)"
      ],
      "metadata": {
        "colab": {
          "base_uri": "https://localhost:8080/"
        },
        "id": "W0cfX0jkSBqX",
        "outputId": "bb86dcac-ac6d-4c1d-c6a0-e8000289b467"
      },
      "execution_count": null,
      "outputs": [
        {
          "output_type": "stream",
          "name": "stderr",
          "text": [
            "/usr/local/lib/python3.7/dist-packages/ipykernel_launcher.py:2: SettingWithCopyWarning: \n",
            "A value is trying to be set on a copy of a slice from a DataFrame.\n",
            "Try using .loc[row_indexer,col_indexer] = value instead\n",
            "\n",
            "See the caveats in the documentation: https://pandas.pydata.org/pandas-docs/stable/user_guide/indexing.html#returning-a-view-versus-a-copy\n",
            "  \n"
          ]
        }
      ]
    },
    {
      "cell_type": "code",
      "source": [
        "# Check dataset after filling na and converting\n",
        "data.info()"
      ],
      "metadata": {
        "colab": {
          "base_uri": "https://localhost:8080/"
        },
        "id": "LSk9YP-2TA9A",
        "outputId": "6ac8f847-914a-4a6f-af0a-ec5f9b890b50"
      },
      "execution_count": null,
      "outputs": [
        {
          "output_type": "stream",
          "name": "stdout",
          "text": [
            "<class 'pandas.core.frame.DataFrame'>\n",
            "Int64Index: 594 entries, 0 to 749\n",
            "Data columns (total 19 columns):\n",
            " #   Column                           Non-Null Count  Dtype  \n",
            "---  ------                           --------------  -----  \n",
            " 0   Identifier                       594 non-null    object \n",
            " 1   Exchange Name                    594 non-null    object \n",
            " 2   TRBC Economic Sector Name        594 non-null    object \n",
            " 3   Total Assets                     594 non-null    float64\n",
            " 4   ROA                              594 non-null    float64\n",
            " 5   Total Current Assets             594 non-null    float64\n",
            " 6   Total Debt                       594 non-null    float64\n",
            " 7   Total Equity                     594 non-null    float64\n",
            " 8   Fixed Assets                     594 non-null    float64\n",
            " 9   Total Current Liabilities        594 non-null    float64\n",
            " 10  Retained Earnings                594 non-null    float64\n",
            " 11  Cash                             594 non-null    float64\n",
            " 12  Cash Dividend Paid               594 non-null    float64\n",
            " 13  Company Market Cap               594 non-null    float64\n",
            " 14  Free Cash Flow                   594 non-null    float64\n",
            " 15  Total Revenue                    594 non-null    float64\n",
            " 16  Accounts Receivable              594 non-null    float64\n",
            " 17  Accounts Payable                 594 non-null    float64\n",
            " 18  Total Common Shares Outstanding  594 non-null    int64  \n",
            "dtypes: float64(15), int64(1), object(3)\n",
            "memory usage: 92.8+ KB\n"
          ]
        }
      ]
    },
    {
      "cell_type": "code",
      "source": [
        "#Calculate independent variables\n",
        "data['Cash'] = data['Cash']/data['Total Current Liabilities']\n",
        "data['Current ratio'] = data['Total Current Assets']/data['Total Current Liabilities']\n",
        "data['Capex'] = data['Fixed Assets']/data['Total Assets']\n",
        "data['Leverage'] = data['Total Debt']/data['Total Assets']\n",
        "data['D/E'] = data['Total Debt']/data['Total Equity']\n",
        "data['Firm size'] = np.log(data['Total Assets'])\n",
        "data['RETA'] = data['Retained Earnings ']/data['Total Assets']\n",
        "data['FCF per share'] = data['Free Cash Flow']/data['Total Common Shares Outstanding']\n",
        "data['Profit margin'] = (data['ROA ']*data['Total Assets'])/data['Total Revenue']\n",
        "data['DSO'] = data['Accounts Receivable']/(data['Total Revenue']/365)\n"
      ],
      "metadata": {
        "colab": {
          "base_uri": "https://localhost:8080/"
        },
        "id": "S4Zqn3rPTMbl",
        "outputId": "6065ff7c-6800-43a6-d6e6-792b45619eb3"
      },
      "execution_count": null,
      "outputs": [
        {
          "output_type": "stream",
          "name": "stderr",
          "text": [
            "/usr/local/lib/python3.7/dist-packages/ipykernel_launcher.py:2: SettingWithCopyWarning: \n",
            "A value is trying to be set on a copy of a slice from a DataFrame.\n",
            "Try using .loc[row_indexer,col_indexer] = value instead\n",
            "\n",
            "See the caveats in the documentation: https://pandas.pydata.org/pandas-docs/stable/user_guide/indexing.html#returning-a-view-versus-a-copy\n",
            "  \n",
            "/usr/local/lib/python3.7/dist-packages/ipykernel_launcher.py:3: SettingWithCopyWarning: \n",
            "A value is trying to be set on a copy of a slice from a DataFrame.\n",
            "Try using .loc[row_indexer,col_indexer] = value instead\n",
            "\n",
            "See the caveats in the documentation: https://pandas.pydata.org/pandas-docs/stable/user_guide/indexing.html#returning-a-view-versus-a-copy\n",
            "  This is separate from the ipykernel package so we can avoid doing imports until\n",
            "/usr/local/lib/python3.7/dist-packages/ipykernel_launcher.py:4: SettingWithCopyWarning: \n",
            "A value is trying to be set on a copy of a slice from a DataFrame.\n",
            "Try using .loc[row_indexer,col_indexer] = value instead\n",
            "\n",
            "See the caveats in the documentation: https://pandas.pydata.org/pandas-docs/stable/user_guide/indexing.html#returning-a-view-versus-a-copy\n",
            "  after removing the cwd from sys.path.\n",
            "/usr/local/lib/python3.7/dist-packages/ipykernel_launcher.py:5: SettingWithCopyWarning: \n",
            "A value is trying to be set on a copy of a slice from a DataFrame.\n",
            "Try using .loc[row_indexer,col_indexer] = value instead\n",
            "\n",
            "See the caveats in the documentation: https://pandas.pydata.org/pandas-docs/stable/user_guide/indexing.html#returning-a-view-versus-a-copy\n",
            "  \"\"\"\n",
            "/usr/local/lib/python3.7/dist-packages/ipykernel_launcher.py:6: SettingWithCopyWarning: \n",
            "A value is trying to be set on a copy of a slice from a DataFrame.\n",
            "Try using .loc[row_indexer,col_indexer] = value instead\n",
            "\n",
            "See the caveats in the documentation: https://pandas.pydata.org/pandas-docs/stable/user_guide/indexing.html#returning-a-view-versus-a-copy\n",
            "  \n",
            "/usr/local/lib/python3.7/dist-packages/ipykernel_launcher.py:7: SettingWithCopyWarning: \n",
            "A value is trying to be set on a copy of a slice from a DataFrame.\n",
            "Try using .loc[row_indexer,col_indexer] = value instead\n",
            "\n",
            "See the caveats in the documentation: https://pandas.pydata.org/pandas-docs/stable/user_guide/indexing.html#returning-a-view-versus-a-copy\n",
            "  import sys\n",
            "/usr/local/lib/python3.7/dist-packages/ipykernel_launcher.py:8: SettingWithCopyWarning: \n",
            "A value is trying to be set on a copy of a slice from a DataFrame.\n",
            "Try using .loc[row_indexer,col_indexer] = value instead\n",
            "\n",
            "See the caveats in the documentation: https://pandas.pydata.org/pandas-docs/stable/user_guide/indexing.html#returning-a-view-versus-a-copy\n",
            "  \n",
            "/usr/local/lib/python3.7/dist-packages/ipykernel_launcher.py:9: SettingWithCopyWarning: \n",
            "A value is trying to be set on a copy of a slice from a DataFrame.\n",
            "Try using .loc[row_indexer,col_indexer] = value instead\n",
            "\n",
            "See the caveats in the documentation: https://pandas.pydata.org/pandas-docs/stable/user_guide/indexing.html#returning-a-view-versus-a-copy\n",
            "  if __name__ == '__main__':\n",
            "/usr/local/lib/python3.7/dist-packages/ipykernel_launcher.py:10: SettingWithCopyWarning: \n",
            "A value is trying to be set on a copy of a slice from a DataFrame.\n",
            "Try using .loc[row_indexer,col_indexer] = value instead\n",
            "\n",
            "See the caveats in the documentation: https://pandas.pydata.org/pandas-docs/stable/user_guide/indexing.html#returning-a-view-versus-a-copy\n",
            "  # Remove the CWD from sys.path while we load stuff.\n",
            "/usr/local/lib/python3.7/dist-packages/ipykernel_launcher.py:11: SettingWithCopyWarning: \n",
            "A value is trying to be set on a copy of a slice from a DataFrame.\n",
            "Try using .loc[row_indexer,col_indexer] = value instead\n",
            "\n",
            "See the caveats in the documentation: https://pandas.pydata.org/pandas-docs/stable/user_guide/indexing.html#returning-a-view-versus-a-copy\n",
            "  # This is added back by InteractiveShellApp.init_path()\n"
          ]
        }
      ]
    },
    {
      "cell_type": "code",
      "source": [
        "# Encoding dependent variable\n",
        "data.loc[data['Cash Dividend Paid'] > 0, 'Paying dividend'] = 1\n",
        "data.loc[data['Cash Dividend Paid'] <= 0, 'Paying dividend'] = 0"
      ],
      "metadata": {
        "id": "twmserEjdSm7",
        "colab": {
          "base_uri": "https://localhost:8080/"
        },
        "outputId": "334750e2-867f-4117-9fc1-7e59444d6144"
      },
      "execution_count": null,
      "outputs": [
        {
          "output_type": "stream",
          "name": "stderr",
          "text": [
            "/usr/local/lib/python3.7/dist-packages/pandas/core/indexing.py:1684: SettingWithCopyWarning: \n",
            "A value is trying to be set on a copy of a slice from a DataFrame.\n",
            "Try using .loc[row_indexer,col_indexer] = value instead\n",
            "\n",
            "See the caveats in the documentation: https://pandas.pydata.org/pandas-docs/stable/user_guide/indexing.html#returning-a-view-versus-a-copy\n",
            "  self.obj[key] = infer_fill_value(value)\n",
            "/usr/local/lib/python3.7/dist-packages/pandas/core/indexing.py:1817: SettingWithCopyWarning: \n",
            "A value is trying to be set on a copy of a slice from a DataFrame.\n",
            "Try using .loc[row_indexer,col_indexer] = value instead\n",
            "\n",
            "See the caveats in the documentation: https://pandas.pydata.org/pandas-docs/stable/user_guide/indexing.html#returning-a-view-versus-a-copy\n",
            "  self._setitem_single_column(loc, value, pi)\n"
          ]
        }
      ]
    },
    {
      "cell_type": "code",
      "source": [
        "# Create dataframe\n",
        "col_all = ['ROA ', 'Cash', 'Current ratio', 'Capex', 'Leverage', 'D/E', 'Firm size', 'RETA', 'FCF per share', 'Profit margin', 'DSO', 'Paying dividend']\n",
        "explanatory_feature = ['ROA ', 'Cash', 'Current ratio', 'Capex', 'Leverage', 'D/E', 'Firm size', 'RETA', 'FCF per share', 'Profit margin', 'DSO']\n",
        "target = ['Paying dividend']\n",
        "data = data[col_all]"
      ],
      "metadata": {
        "id": "Hjwnm98_nuXU"
      },
      "execution_count": null,
      "outputs": []
    },
    {
      "cell_type": "code",
      "source": [
        "# Correlation matrix\n",
        "matrix = data[explanatory_feature].corr()"
      ],
      "metadata": {
        "id": "vQbPiId2p_Fa"
      },
      "execution_count": null,
      "outputs": []
    },
    {
      "cell_type": "code",
      "source": [
        "# Plot correlation matrix\n",
        "sns.heatmap(matrix.round(2), annot=True)\n",
        "plt.show()"
      ],
      "metadata": {
        "colab": {
          "base_uri": "https://localhost:8080/",
          "height": 328
        },
        "id": "qWubzsR8qcxa",
        "outputId": "58e173b4-dfab-47fd-89ec-347fc4eb7f37"
      },
      "execution_count": null,
      "outputs": [
        {
          "output_type": "display_data",
          "data": {
            "text/plain": [
              "<Figure size 432x288 with 2 Axes>"
            ],
            "image/png": "[encoded data removed]"
          },
          "metadata": {
            "needs_background": "light"
          }
        }
      ]
    },
    {
      "cell_type": "code",
      "source": [
        "data[col_all].corr()"
      ],
      "metadata": {
        "colab": {
          "base_uri": "https://localhost:8080/",
          "height": 426
        },
        "id": "29pQJTr4qjwy",
        "outputId": "c5b504f9-2d6d-404f-ff08-b7d02bcfac27"
      },
      "execution_count": null,
      "outputs": [
        {
          "output_type": "execute_result",
          "data": {
            "text/plain": [
              "                     ROA       Cash  Current ratio     Capex  Leverage  \\\n",
              "ROA              1.000000  0.197762       0.123807 -0.065471 -0.293180   \n",
              "Cash             0.197762  1.000000       0.658139 -0.062329 -0.335517   \n",
              "Current ratio    0.123807  0.658139       1.000000 -0.082712 -0.343159   \n",
              "Capex           -0.065471 -0.062329      -0.082712  1.000000  0.089985   \n",
              "Leverage        -0.293180 -0.335517      -0.343159  0.089985  1.000000   \n",
              "D/E             -0.249402 -0.131722      -0.135777 -0.011908  0.436888   \n",
              "Firm size        0.021976 -0.145915      -0.207885  0.090547  0.377045   \n",
              "RETA             0.558372  0.190160       0.195524 -0.055552 -0.174079   \n",
              "FCF per share    0.370342  0.029757       0.004367  0.023449 -0.098800   \n",
              "Profit margin   -0.015664  0.019874       0.026085  0.031299  0.044050   \n",
              "DSO             -0.057618 -0.003427       0.012613  0.024022  0.057458   \n",
              "Paying dividend  0.297210  0.036011      -0.046080 -0.030124 -0.120291   \n",
              "\n",
              "                      D/E  Firm size      RETA  FCF per share  Profit margin  \\\n",
              "ROA             -0.249402   0.021976  0.558372       0.370342      -0.015664   \n",
              "Cash            -0.131722  -0.145915  0.190160       0.029757       0.019874   \n",
              "Current ratio   -0.135777  -0.207885  0.195524       0.004367       0.026085   \n",
              "Capex           -0.011908   0.090547 -0.055552       0.023449       0.031299   \n",
              "Leverage         0.436888   0.377045 -0.174079      -0.098800       0.044050   \n",
              "D/E              1.000000   0.165267 -0.212761      -0.087014       0.010258   \n",
              "Firm size        0.165267   1.000000  0.081426       0.057686       0.017551   \n",
              "RETA            -0.212761   0.081426  1.000000       0.229278      -0.007593   \n",
              "FCF per share   -0.087014   0.057686  0.229278       1.000000      -0.020360   \n",
              "Profit margin    0.010258   0.017551 -0.007593      -0.020360       1.000000   \n",
              "DSO              0.039851   0.006484 -0.010289      -0.037697       0.988927   \n",
              "Paying dividend -0.114232   0.095639  0.327327       0.066278       0.060262   \n",
              "\n",
              "                      DSO  Paying dividend  \n",
              "ROA             -0.057618         0.297210  \n",
              "Cash            -0.003427         0.036011  \n",
              "Current ratio    0.012613        -0.046080  \n",
              "Capex            0.024022        -0.030124  \n",
              "Leverage         0.057458        -0.120291  \n",
              "D/E              0.039851        -0.114232  \n",
              "Firm size        0.006484         0.095639  \n",
              "RETA            -0.010289         0.327327  \n",
              "FCF per share   -0.037697         0.066278  \n",
              "Profit margin    0.988927         0.060262  \n",
              "DSO              1.000000         0.051301  \n",
              "Paying dividend  0.051301         1.000000  "
            ],
            "text/html": [
              "\n",
              "  <div id=\"df-d682a21f-db15-4642-a747-eb9acf022dae\">\n",
              "    <div class=\"colab-df-container\">\n",
              "      <div>\n",
              "<style scoped>\n",
              "    .dataframe tbody tr th:only-of-type {\n",
              "        vertical-align: middle;\n",
              "    }\n",
              "\n",
              "    .dataframe tbody tr th {\n",
              "        vertical-align: top;\n",
              "    }\n",
              "\n",
              "    .dataframe thead th {\n",
              "        text-align: right;\n",
              "    }\n",
              "</style>\n",
              "<table border=\"1\" class=\"dataframe\">\n",
              "  <thead>\n",
              "    <tr style=\"text-align: right;\">\n",
              "      <th></th>\n",
              "      <th>ROA</th>\n",
              "      <th>Cash</th>\n",
              "      <th>Current ratio</th>\n",
              "      <th>Capex</th>\n",
              "      <th>Leverage</th>\n",
              "      <th>D/E</th>\n",
              "      <th>Firm size</th>\n",
              "      <th>RETA</th>\n",
              "      <th>FCF per share</th>\n",
              "      <th>Profit margin</th>\n",
              "      <th>DSO</th>\n",
              "      <th>Paying dividend</th>\n",
              "    </tr>\n",
              "  </thead>\n",
              "  <tbody>\n",
              "    <tr>\n",
              "      <th>ROA</th>\n",
              "      <td>1.000000</td>\n",
              "      <td>0.197762</td>\n",
              "      <td>0.123807</td>\n",
              "      <td>-0.065471</td>\n",
              "      <td>-0.293180</td>\n",
              "      <td>-0.249402</td>\n",
              "      <td>0.021976</td>\n",
              "      <td>0.558372</td>\n",
              "      <td>0.370342</td>\n",
              "      <td>-0.015664</td>\n",
              "      <td>-0.057618</td>\n",
              "      <td>0.297210</td>\n",
              "    </tr>\n",
              "    <tr>\n",
              "      <th>Cash</th>\n",
              "      <td>0.197762</td>\n",
              "      <td>1.000000</td>\n",
              "      <td>0.658139</td>\n",
              "      <td>-0.062329</td>\n",
              "      <td>-0.335517</td>\n",
              "      <td>-0.131722</td>\n",
              "      <td>-0.145915</td>\n",
              "      <td>0.190160</td>\n",
              "      <td>0.029757</td>\n",
              "      <td>0.019874</td>\n",
              "      <td>-0.003427</td>\n",
              "      <td>0.036011</td>\n",
              "    </tr>\n",
              "    <tr>\n",
              "      <th>Current ratio</th>\n",
              "      <td>0.123807</td>\n",
              "      <td>0.658139</td>\n",
              "      <td>1.000000</td>\n",
              "      <td>-0.082712</td>\n",
              "      <td>-0.343159</td>\n",
              "      <td>-0.135777</td>\n",
              "      <td>-0.207885</td>\n",
              "      <td>0.195524</td>\n",
              "      <td>0.004367</td>\n",
              "      <td>0.026085</td>\n",
              "      <td>0.012613</td>\n",
              "      <td>-0.046080</td>\n",
              "    </tr>\n",
              "    <tr>\n",
              "      <th>Capex</th>\n",
              "      <td>-0.065471</td>\n",
              "      <td>-0.062329</td>\n",
              "      <td>-0.082712</td>\n",
              "      <td>1.000000</td>\n",
              "      <td>0.089985</td>\n",
              "      <td>-0.011908</td>\n",
              "      <td>0.090547</td>\n",
              "      <td>-0.055552</td>\n",
              "      <td>0.023449</td>\n",
              "      <td>0.031299</td>\n",
              "      <td>0.024022</td>\n",
              "      <td>-0.030124</td>\n",
              "    </tr>\n",
              "    <tr>\n",
              "      <th>Leverage</th>\n",
              "      <td>-0.293180</td>\n",
              "      <td>-0.335517</td>\n",
              "      <td>-0.343159</td>\n",
              "      <td>0.089985</td>\n",
              "      <td>1.000000</td>\n",
              "      <td>0.436888</td>\n",
              "      <td>0.377045</td>\n",
              "      <td>-0.174079</td>\n",
              "      <td>-0.098800</td>\n",
              "      <td>0.044050</td>\n",
              "      <td>0.057458</td>\n",
              "      <td>-0.120291</td>\n",
              "    </tr>\n",
              "    <tr>\n",
              "      <th>D/E</th>\n",
              "      <td>-0.249402</td>\n",
              "      <td>-0.131722</td>\n",
              "      <td>-0.135777</td>\n",
              "      <td>-0.011908</td>\n",
              "      <td>0.436888</td>\n",
              "      <td>1.000000</td>\n",
              "      <td>0.165267</td>\n",
              "      <td>-0.212761</td>\n",
              "      <td>-0.087014</td>\n",
              "      <td>0.010258</td>\n",
              "      <td>0.039851</td>\n",
              "      <td>-0.114232</td>\n",
              "    </tr>\n",
              "    <tr>\n",
              "      <th>Firm size</th>\n",
              "      <td>0.021976</td>\n",
              "      <td>-0.145915</td>\n",
              "      <td>-0.207885</td>\n",
              "      <td>0.090547</td>\n",
              "      <td>0.377045</td>\n",
              "      <td>0.165267</td>\n",
              "      <td>1.000000</td>\n",
              "      <td>0.081426</td>\n",
              "      <td>0.057686</td>\n",
              "      <td>0.017551</td>\n",
              "      <td>0.006484</td>\n",
              "      <td>0.095639</td>\n",
              "    </tr>\n",
              "    <tr>\n",
              "      <th>RETA</th>\n",
              "      <td>0.558372</td>\n",
              "      <td>0.190160</td>\n",
              "      <td>0.195524</td>\n",
              "      <td>-0.055552</td>\n",
              "      <td>-0.174079</td>\n",
              "      <td>-0.212761</td>\n",
              "      <td>0.081426</td>\n",
              "      <td>1.000000</td>\n",
              "      <td>0.229278</td>\n",
              "      <td>-0.007593</td>\n",
              "      <td>-0.010289</td>\n",
              "      <td>0.327327</td>\n",
              "    </tr>\n",
              "    <tr>\n",
              "      <th>FCF per share</th>\n",
              "      <td>0.370342</td>\n",
              "      <td>0.029757</td>\n",
              "      <td>0.004367</td>\n",
              "      <td>0.023449</td>\n",
              "      <td>-0.098800</td>\n",
              "      <td>-0.087014</td>\n",
              "      <td>0.057686</td>\n",
              "      <td>0.229278</td>\n",
              "      <td>1.000000</td>\n",
              "      <td>-0.020360</td>\n",
              "      <td>-0.037697</td>\n",
              "      <td>0.066278</td>\n",
              "    </tr>\n",
              "    <tr>\n",
              "      <th>Profit margin</th>\n",
              "      <td>-0.015664</td>\n",
              "      <td>0.019874</td>\n",
              "      <td>0.026085</td>\n",
              "      <td>0.031299</td>\n",
              "      <td>0.044050</td>\n",
              "      <td>0.010258</td>\n",
              "      <td>0.017551</td>\n",
              "      <td>-0.007593</td>\n",
              "      <td>-0.020360</td>\n",
              "      <td>1.000000</td>\n",
              "      <td>0.988927</td>\n",
              "      <td>0.060262</td>\n",
              "    </tr>\n",
              "    <tr>\n",
              "      <th>DSO</th>\n",
              "      <td>-0.057618</td>\n",
              "      <td>-0.003427</td>\n",
              "      <td>0.012613</td>\n",
              "      <td>0.024022</td>\n",
              "      <td>0.057458</td>\n",
              "      <td>0.039851</td>\n",
              "      <td>0.006484</td>\n",
              "      <td>-0.010289</td>\n",
              "      <td>-0.037697</td>\n",
              "      <td>0.988927</td>\n",
              "      <td>1.000000</td>\n",
              "      <td>0.051301</td>\n",
              "    </tr>\n",
              "    <tr>\n",
              "      <th>Paying dividend</th>\n",
              "      <td>0.297210</td>\n",
              "      <td>0.036011</td>\n",
              "      <td>-0.046080</td>\n",
              "      <td>-0.030124</td>\n",
              "      <td>-0.120291</td>\n",
              "      <td>-0.114232</td>\n",
              "      <td>0.095639</td>\n",
              "      <td>0.327327</td>\n",
              "      <td>0.066278</td>\n",
              "      <td>0.060262</td>\n",
              "      <td>0.051301</td>\n",
              "      <td>1.000000</td>\n",
              "    </tr>\n",
              "  </tbody>\n",
              "</table>\n",
              "</div>\n",
              "      <button class=\"colab-df-convert\" onclick=\"convertToInteractive('df-d682a21f-db15-4642-a747-eb9acf022dae')\"\n",
              "              title=\"Convert this dataframe to an interactive table.\"\n",
              "              style=\"display:none;\">\n",
              "        \n",
              "  <svg xmlns=\"http://www.w3.org/2000/svg\" height=\"24px\"viewBox=\"0 0 24 24\"\n",
              "       width=\"24px\">\n",
              "    <path d=\"M0 0h24v24H0V0z\" fill=\"none\"/>\n",
              "    <path d=\"M18.56 5.44l.94 2.06.94-2.06 2.06-.94-2.06-.94-.94-2.06-.94 2.06-2.06.94zm-11 1L8.5 8.5l.94-2.06 2.06-.94-2.06-.94L8.5 2.5l-.94 2.06-2.06.94zm10 10l.94 2.06.94-2.06 2.06-.94-2.06-.94-.94-2.06-.94 2.06-2.06.94z\"/><path d=\"M17.41 7.96l-1.37-1.37c-.4-.4-.92-.59-1.43-.59-.52 0-1.04.2-1.43.59L10.3 9.45l-7.72 7.72c-.78.78-.78 2.05 0 2.83L4 21.41c.39.39.9.59 1.41.59.51 0 1.02-.2 1.41-.59l7.78-7.78 2.81-2.81c.8-.78.8-2.07 0-2.86zM5.41 20L4 18.59l7.72-7.72 1.47 1.35L5.41 20z\"/>\n",
              "  </svg>\n",
              "      </button>\n",
              "      \n",
              "  <style>\n",
              "    .colab-df-container {\n",
              "      display:flex;\n",
              "      flex-wrap:wrap;\n",
              "      gap: 12px;\n",
              "    }\n",
              "\n",
              "    .colab-df-convert {\n",
              "      background-color: #E8F0FE;\n",
              "      border: none;\n",
              "      border-radius: 50%;\n",
              "      cursor: pointer;\n",
              "      display: none;\n",
              "      fill: #1967D2;\n",
              "      height: 32px;\n",
              "      padding: 0 0 0 0;\n",
              "      width: 32px;\n",
              "    }\n",
              "\n",
              "    .colab-df-convert:hover {\n",
              "      background-color: #E2EBFA;\n",
              "      box-shadow: 0px 1px 2px rgba(60, 64, 67, 0.3), 0px 1px 3px 1px rgba(60, 64, 67, 0.15);\n",
              "      fill: #174EA6;\n",
              "    }\n",
              "\n",
              "    [theme=dark] .colab-df-convert {\n",
              "      background-color: #3B4455;\n",
              "      fill: #D2E3FC;\n",
              "    }\n",
              "\n",
              "    [theme=dark] .colab-df-convert:hover {\n",
              "      background-color: #434B5C;\n",
              "      box-shadow: 0px 1px 3px 1px rgba(0, 0, 0, 0.15);\n",
              "      filter: drop-shadow(0px 1px 2px rgba(0, 0, 0, 0.3));\n",
              "      fill: #FFFFFF;\n",
              "    }\n",
              "  </style>\n",
              "\n",
              "      <script>\n",
              "        const buttonEl =\n",
              "          document.querySelector('#df-d682a21f-db15-4642-a747-eb9acf022dae button.colab-df-convert');\n",
              "        buttonEl.style.display =\n",
              "          google.colab.kernel.accessAllowed ? 'block' : 'none';\n",
              "\n",
              "        async function convertToInteractive(key) {\n",
              "          const element = document.querySelector('#df-d682a21f-db15-4642-a747-eb9acf022dae');\n",
              "          const dataTable =\n",
              "            await google.colab.kernel.invokeFunction('convertToInteractive',\n",
              "                                                     [key], {});\n",
              "          if (!dataTable) return;\n",
              "\n",
              "          const docLinkHtml = 'Like what you see? Visit the ' +\n",
              "            '<a target=\"_blank\" href=https://colab.research.google.com/notebooks/data_table.ipynb>data table notebook</a>'\n",
              "            + ' to learn more about interactive tables.';\n",
              "          element.innerHTML = '';\n",
              "          dataTable['output_type'] = 'display_data';\n",
              "          await google.colab.output.renderOutput(dataTable, element);\n",
              "          const docLink = document.createElement('div');\n",
              "          docLink.innerHTML = docLinkHtml;\n",
              "          element.appendChild(docLink);\n",
              "        }\n",
              "      </script>\n",
              "    </div>\n",
              "  </div>\n",
              "  "
            ]
          },
          "metadata": {},
          "execution_count": 18
        }
      ]
    },
    {
      "cell_type": "code",
      "source": [
        "# Descriptive statistics of explanatory features after eliminating \"Profit margin\" and \"DSO\" \n",
        "explanatory_features = ['ROA ', 'Cash', 'Current ratio', 'Capex', 'Leverage', 'D/E', 'Firm size', 'RETA', 'FCF per share']\n",
        "data[explanatory_features].describe()"
      ],
      "metadata": {
        "colab": {
          "base_uri": "https://localhost:8080/",
          "height": 300
        },
        "id": "q-H8y5TQqwuB",
        "outputId": "6cfbbd92-bbb7-4fcc-d818-431fa9918087"
      },
      "execution_count": null,
      "outputs": [
        {
          "output_type": "execute_result",
          "data": {
            "text/plain": [
              "             ROA         Cash  Current ratio       Capex    Leverage  \\\n",
              "count  594.000000  594.000000     594.000000  594.000000  594.000000   \n",
              "mean     0.055573    0.904468       2.573264    0.261925    0.215318   \n",
              "std      0.074659    2.042584       3.978887    0.330885    0.184415   \n",
              "min     -0.255507   -0.007250       0.033829    0.000000    0.000000   \n",
              "25%      0.014641    0.090711       1.146372    0.061577    0.034995   \n",
              "50%      0.039981    0.299411       1.453585    0.178920    0.185025   \n",
              "75%      0.081675    0.748361       2.388351    0.366220    0.349911   \n",
              "max      0.449104   21.287109      39.059628    4.919161    0.954313   \n",
              "\n",
              "              D/E   Firm size        RETA  FCF per share  \n",
              "count  594.000000  594.000000  594.000000     594.000000  \n",
              "mean     0.871100   27.557860    0.069279    1160.129524  \n",
              "std      2.255323    1.618848    0.145943    3229.121111  \n",
              "min      0.000000   23.636331   -1.075446  -17316.031192  \n",
              "25%      0.057592   26.418246    0.025094     -51.265394  \n",
              "50%      0.371069   27.513169    0.064008     834.644353  \n",
              "75%      1.110378   28.499764    0.132464    2234.599531  \n",
              "max     40.341193   32.814132    0.722730   27174.541064  "
            ],
            "text/html": [
              "\n",
              "  <div id=\"df-d4c5ab32-51cc-4abd-b883-4468b427e349\">\n",
              "    <div class=\"colab-df-container\">\n",
              "      <div>\n",
              "<style scoped>\n",
              "    .dataframe tbody tr th:only-of-type {\n",
              "        vertical-align: middle;\n",
              "    }\n",
              "\n",
              "    .dataframe tbody tr th {\n",
              "        vertical-align: top;\n",
              "    }\n",
              "\n",
              "    .dataframe thead th {\n",
              "        text-align: right;\n",
              "    }\n",
              "</style>\n",
              "<table border=\"1\" class=\"dataframe\">\n",
              "  <thead>\n",
              "    <tr style=\"text-align: right;\">\n",
              "      <th></th>\n",
              "      <th>ROA</th>\n",
              "      <th>Cash</th>\n",
              "      <th>Current ratio</th>\n",
              "      <th>Capex</th>\n",
              "      <th>Leverage</th>\n",
              "      <th>D/E</th>\n",
              "      <th>Firm size</th>\n",
              "      <th>RETA</th>\n",
              "      <th>FCF per share</th>\n",
              "    </tr>\n",
              "  </thead>\n",
              "  <tbody>\n",
              "    <tr>\n",
              "      <th>count</th>\n",
              "      <td>594.000000</td>\n",
              "      <td>594.000000</td>\n",
              "      <td>594.000000</td>\n",
              "      <td>594.000000</td>\n",
              "      <td>594.000000</td>\n",
              "      <td>594.000000</td>\n",
              "      <td>594.000000</td>\n",
              "      <td>594.000000</td>\n",
              "      <td>594.000000</td>\n",
              "    </tr>\n",
              "    <tr>\n",
              "      <th>mean</th>\n",
              "      <td>0.055573</td>\n",
              "      <td>0.904468</td>\n",
              "      <td>2.573264</td>\n",
              "      <td>0.261925</td>\n",
              "      <td>0.215318</td>\n",
              "      <td>0.871100</td>\n",
              "      <td>27.557860</td>\n",
              "      <td>0.069279</td>\n",
              "      <td>1160.129524</td>\n",
              "    </tr>\n",
              "    <tr>\n",
              "      <th>std</th>\n",
              "      <td>0.074659</td>\n",
              "      <td>2.042584</td>\n",
              "      <td>3.978887</td>\n",
              "      <td>0.330885</td>\n",
              "      <td>0.184415</td>\n",
              "      <td>2.255323</td>\n",
              "      <td>1.618848</td>\n",
              "      <td>0.145943</td>\n",
              "      <td>3229.121111</td>\n",
              "    </tr>\n",
              "    <tr>\n",
              "      <th>min</th>\n",
              "      <td>-0.255507</td>\n",
              "      <td>-0.007250</td>\n",
              "      <td>0.033829</td>\n",
              "      <td>0.000000</td>\n",
              "      <td>0.000000</td>\n",
              "      <td>0.000000</td>\n",
              "      <td>23.636331</td>\n",
              "      <td>-1.075446</td>\n",
              "      <td>-17316.031192</td>\n",
              "    </tr>\n",
              "    <tr>\n",
              "      <th>25%</th>\n",
              "      <td>0.014641</td>\n",
              "      <td>0.090711</td>\n",
              "      <td>1.146372</td>\n",
              "      <td>0.061577</td>\n",
              "      <td>0.034995</td>\n",
              "      <td>0.057592</td>\n",
              "      <td>26.418246</td>\n",
              "      <td>0.025094</td>\n",
              "      <td>-51.265394</td>\n",
              "    </tr>\n",
              "    <tr>\n",
              "      <th>50%</th>\n",
              "      <td>0.039981</td>\n",
              "      <td>0.299411</td>\n",
              "      <td>1.453585</td>\n",
              "      <td>0.178920</td>\n",
              "      <td>0.185025</td>\n",
              "      <td>0.371069</td>\n",
              "      <td>27.513169</td>\n",
              "      <td>0.064008</td>\n",
              "      <td>834.644353</td>\n",
              "    </tr>\n",
              "    <tr>\n",
              "      <th>75%</th>\n",
              "      <td>0.081675</td>\n",
              "      <td>0.748361</td>\n",
              "      <td>2.388351</td>\n",
              "      <td>0.366220</td>\n",
              "      <td>0.349911</td>\n",
              "      <td>1.110378</td>\n",
              "      <td>28.499764</td>\n",
              "      <td>0.132464</td>\n",
              "      <td>2234.599531</td>\n",
              "    </tr>\n",
              "    <tr>\n",
              "      <th>max</th>\n",
              "      <td>0.449104</td>\n",
              "      <td>21.287109</td>\n",
              "      <td>39.059628</td>\n",
              "      <td>4.919161</td>\n",
              "      <td>0.954313</td>\n",
              "      <td>40.341193</td>\n",
              "      <td>32.814132</td>\n",
              "      <td>0.722730</td>\n",
              "      <td>27174.541064</td>\n",
              "    </tr>\n",
              "  </tbody>\n",
              "</table>\n",
              "</div>\n",
              "      <button class=\"colab-df-convert\" onclick=\"convertToInteractive('df-d4c5ab32-51cc-4abd-b883-4468b427e349')\"\n",
              "              title=\"Convert this dataframe to an interactive table.\"\n",
              "              style=\"display:none;\">\n",
              "        \n",
              "  <svg xmlns=\"http://www.w3.org/2000/svg\" height=\"24px\"viewBox=\"0 0 24 24\"\n",
              "       width=\"24px\">\n",
              "    <path d=\"M0 0h24v24H0V0z\" fill=\"none\"/>\n",
              "    <path d=\"M18.56 5.44l.94 2.06.94-2.06 2.06-.94-2.06-.94-.94-2.06-.94 2.06-2.06.94zm-11 1L8.5 8.5l.94-2.06 2.06-.94-2.06-.94L8.5 2.5l-.94 2.06-2.06.94zm10 10l.94 2.06.94-2.06 2.06-.94-2.06-.94-.94-2.06-.94 2.06-2.06.94z\"/><path d=\"M17.41 7.96l-1.37-1.37c-.4-.4-.92-.59-1.43-.59-.52 0-1.04.2-1.43.59L10.3 9.45l-7.72 7.72c-.78.78-.78 2.05 0 2.83L4 21.41c.39.39.9.59 1.41.59.51 0 1.02-.2 1.41-.59l7.78-7.78 2.81-2.81c.8-.78.8-2.07 0-2.86zM5.41 20L4 18.59l7.72-7.72 1.47 1.35L5.41 20z\"/>\n",
              "  </svg>\n",
              "      </button>\n",
              "      \n",
              "  <style>\n",
              "    .colab-df-container {\n",
              "      display:flex;\n",
              "      flex-wrap:wrap;\n",
              "      gap: 12px;\n",
              "    }\n",
              "\n",
              "    .colab-df-convert {\n",
              "      background-color: #E8F0FE;\n",
              "      border: none;\n",
              "      border-radius: 50%;\n",
              "      cursor: pointer;\n",
              "      display: none;\n",
              "      fill: #1967D2;\n",
              "      height: 32px;\n",
              "      padding: 0 0 0 0;\n",
              "      width: 32px;\n",
              "    }\n",
              "\n",
              "    .colab-df-convert:hover {\n",
              "      background-color: #E2EBFA;\n",
              "      box-shadow: 0px 1px 2px rgba(60, 64, 67, 0.3), 0px 1px 3px 1px rgba(60, 64, 67, 0.15);\n",
              "      fill: #174EA6;\n",
              "    }\n",
              "\n",
              "    [theme=dark] .colab-df-convert {\n",
              "      background-color: #3B4455;\n",
              "      fill: #D2E3FC;\n",
              "    }\n",
              "\n",
              "    [theme=dark] .colab-df-convert:hover {\n",
              "      background-color: #434B5C;\n",
              "      box-shadow: 0px 1px 3px 1px rgba(0, 0, 0, 0.15);\n",
              "      filter: drop-shadow(0px 1px 2px rgba(0, 0, 0, 0.3));\n",
              "      fill: #FFFFFF;\n",
              "    }\n",
              "  </style>\n",
              "\n",
              "      <script>\n",
              "        const buttonEl =\n",
              "          document.querySelector('#df-d4c5ab32-51cc-4abd-b883-4468b427e349 button.colab-df-convert');\n",
              "        buttonEl.style.display =\n",
              "          google.colab.kernel.accessAllowed ? 'block' : 'none';\n",
              "\n",
              "        async function convertToInteractive(key) {\n",
              "          const element = document.querySelector('#df-d4c5ab32-51cc-4abd-b883-4468b427e349');\n",
              "          const dataTable =\n",
              "            await google.colab.kernel.invokeFunction('convertToInteractive',\n",
              "                                                     [key], {});\n",
              "          if (!dataTable) return;\n",
              "\n",
              "          const docLinkHtml = 'Like what you see? Visit the ' +\n",
              "            '<a target=\"_blank\" href=https://colab.research.google.com/notebooks/data_table.ipynb>data table notebook</a>'\n",
              "            + ' to learn more about interactive tables.';\n",
              "          element.innerHTML = '';\n",
              "          dataTable['output_type'] = 'display_data';\n",
              "          await google.colab.output.renderOutput(dataTable, element);\n",
              "          const docLink = document.createElement('div');\n",
              "          docLink.innerHTML = docLinkHtml;\n",
              "          element.appendChild(docLink);\n",
              "        }\n",
              "      </script>\n",
              "    </div>\n",
              "  </div>\n",
              "  "
            ]
          },
          "metadata": {},
          "execution_count": 19
        }
      ]
    },
    {
      "cell_type": "markdown",
      "source": [
        "**Visualize**"
      ],
      "metadata": {
        "id": "xnewwBPEd4f7"
      }
    },
    {
      "cell_type": "code",
      "source": [
        "%matplotlib inline\n",
        "#Creating histogram for numerical attributes\n",
        "data[explanatory_features].hist(bins=50, figsize=(20,15))\n",
        "plt.show()"
      ],
      "metadata": {
        "colab": {
          "base_uri": "https://localhost:8080/",
          "height": 879
        },
        "id": "7MPz7AFYd8Gw",
        "outputId": "d72f7a58-a487-4e7f-f9b1-ff46f692eeb0"
      },
      "execution_count": null,
      "outputs": [
        {
          "output_type": "display_data",
          "data": {
            "text/plain": [
              "<Figure size 1440x1080 with 9 Axes>"
            ],
            "image/png": "[encoded data removed]"
          },
          "metadata": {
            "needs_background": "light"
          }
        }
      ]
    },
    {
      "cell_type": "code",
      "source": [
        "# Count the number of each class of the target variable\n",
        "data['Paying dividend'].value_counts()"
      ],
      "metadata": {
        "colab": {
          "base_uri": "https://localhost:8080/"
        },
        "id": "nSlylqiSp5-K",
        "outputId": "fcc1f3d0-bc76-4890-8dce-90b285e40786"
      },
      "execution_count": null,
      "outputs": [
        {
          "output_type": "execute_result",
          "data": {
            "text/plain": [
              "1.0    394\n",
              "0.0    200\n",
              "Name: Paying dividend, dtype: int64"
            ]
          },
          "metadata": {},
          "execution_count": 21
        }
      ]
    },
    {
      "cell_type": "code",
      "source": [
        "# Plot pie chart to see imbalance between 2 classes of target variable\n",
        "data['Paying dividend'].value_counts().plot.pie(autopct='%1.1f%%')"
      ],
      "metadata": {
        "colab": {
          "base_uri": "https://localhost:8080/",
          "height": 265
        },
        "id": "sQlj_pGhTk5G",
        "outputId": "8839dada-6df0-45a3-c808-f57a3a0266c6"
      },
      "execution_count": null,
      "outputs": [
        {
          "output_type": "execute_result",
          "data": {
            "text/plain": [
              "<matplotlib.axes._subplots.AxesSubplot at 0x7ffb3ced94d0>"
            ]
          },
          "metadata": {},
          "execution_count": 22
        },
        {
          "output_type": "display_data",
          "data": {
            "text/plain": [
              "<Figure size 432x288 with 1 Axes>"
            ],
            "image/png": "[encoded data removed]"
          },
          "metadata": {}
        }
      ]
    },
    {
      "cell_type": "code",
      "source": [
        "X = data[explanatory_features]\n",
        "y = data[target]"
      ],
      "metadata": {
        "id": "Z4CYIxHoSrIs"
      },
      "execution_count": null,
      "outputs": []
    },
    {
      "cell_type": "code",
      "source": [
        "# Split train-test data in dataset with test_size = 0.2\n",
        "X_train, X_test, y_train, y_test = train_test_split(X, y, test_size=0.2, random_state = 0)"
      ],
      "metadata": {
        "id": "oo7fctI2rBvC"
      },
      "execution_count": null,
      "outputs": []
    },
    {
      "cell_type": "code",
      "source": [
        "# Scale features\n",
        "sc = StandardScaler()\n",
        "X_train = sc.fit_transform(X_train)\n",
        "X_test = sc.transform(X_test)"
      ],
      "metadata": {
        "id": "ByfBHzFps15x"
      },
      "execution_count": null,
      "outputs": []
    },
    {
      "cell_type": "markdown",
      "source": [
        "**Build model with Logistic Regression**"
      ],
      "metadata": {
        "id": "8GnPofG_UuTd"
      }
    },
    {
      "cell_type": "code",
      "source": [
        "# Fit a model \n",
        "model = LogisticRegression(random_state = 0)\n",
        "model.fit(X_train, y_train)"
      ],
      "metadata": {
        "id": "O8jEGFKltBRa",
        "colab": {
          "base_uri": "https://localhost:8080/"
        },
        "outputId": "dff8d645-4b5e-4d7e-c88b-31119c7fb6cf"
      },
      "execution_count": null,
      "outputs": [
        {
          "output_type": "stream",
          "name": "stderr",
          "text": [
            "/usr/local/lib/python3.7/dist-packages/sklearn/utils/validation.py:993: DataConversionWarning: A column-vector y was passed when a 1d array was expected. Please change the shape of y to (n_samples, ), for example using ravel().\n",
            "  y = column_or_1d(y, warn=True)\n"
          ]
        },
        {
          "output_type": "execute_result",
          "data": {
            "text/plain": [
              "LogisticRegression(random_state=0)"
            ]
          },
          "metadata": {},
          "execution_count": 26
        }
      ]
    },
    {
      "cell_type": "code",
      "source": [
        "# Predict probabilities\n",
        "y_pred = model.predict(X_test)"
      ],
      "metadata": {
        "id": "yCfPtm7lvn1E"
      },
      "execution_count": null,
      "outputs": []
    },
    {
      "cell_type": "code",
      "source": [
        "# Report result of test data following model\n",
        "# Confusion matrix\n",
        "cm = confusion_matrix(y_test, y_pred)\n",
        "print(cm)\n",
        "# Classification report\n",
        "print(classification_report(y_test,y_pred))\n",
        "print('Logistic accuracy: ', accuracy_score(y_test, y_pred))"
      ],
      "metadata": {
        "id": "6tvh161XvrND",
        "colab": {
          "base_uri": "https://localhost:8080/"
        },
        "outputId": "54bd887a-66ca-4eb1-f9d5-dcec851a6cb8"
      },
      "execution_count": null,
      "outputs": [
        {
          "output_type": "stream",
          "name": "stdout",
          "text": [
            "[[ 7 35]\n",
            " [ 1 76]]\n",
            "              precision    recall  f1-score   support\n",
            "\n",
            "         0.0       0.88      0.17      0.28        42\n",
            "         1.0       0.68      0.99      0.81        77\n",
            "\n",
            "    accuracy                           0.70       119\n",
            "   macro avg       0.78      0.58      0.54       119\n",
            "weighted avg       0.75      0.70      0.62       119\n",
            "\n",
            "Logistic accuracy:  0.6974789915966386\n"
          ]
        }
      ]
    },
    {
      "cell_type": "markdown",
      "source": [
        "*Adjust model with new threshold*"
      ],
      "metadata": {
        "id": "b_oItogXU55L"
      }
    },
    {
      "cell_type": "code",
      "source": [
        "# Keep probabilities for the positive outcome only\n",
        "y_pred1 = model.predict_proba(X_test)\n",
        "y_pred1 = y_pred1[:, 1]\n",
        "\n",
        "fpr, tpr, thresholds = roc_curve(y_test, y_pred1)\n",
        "# calculate the g-mean for each threshold\n",
        "gmeans = sqrt(tpr * (1-fpr))\n",
        "# locate the index of the largest g-mean\n",
        "ix = argmax(gmeans)\n",
        "print('Best Threshold=%f, G-Mean=%.3f' % (thresholds[ix], gmeans[ix]))\n",
        "# plot the roc curve for the model\n",
        "pyplot.plot([0,1], [0,1], linestyle='--', label='No Skill')\n",
        "pyplot.plot(fpr, tpr, marker='.', label='Logistic')\n",
        "pyplot.scatter(fpr[ix], tpr[ix], marker='o', color='black', label='Best')\n",
        "# axis labels\n",
        "pyplot.xlabel('False Positive Rate')\n",
        "pyplot.ylabel('True Positive Rate')\n",
        "pyplot.legend()\n",
        "# show the plot\n",
        "pyplot.show()"
      ],
      "metadata": {
        "id": "U7Dlhh4cv3mC",
        "colab": {
          "base_uri": "https://localhost:8080/",
          "height": 296
        },
        "outputId": "c404ee10-75b4-483a-efcc-c0a00d2877b6"
      },
      "execution_count": null,
      "outputs": [
        {
          "output_type": "stream",
          "name": "stdout",
          "text": [
            "Best Threshold=0.673993, G-Mean=0.727\n"
          ]
        },
        {
          "output_type": "display_data",
          "data": {
            "text/plain": [
              "<Figure size 432x288 with 1 Axes>"
            ],
            "image/png": "[encoded data removed]"
          },
          "metadata": {
            "needs_background": "light"
          }
        }
      ]
    },
    {
      "cell_type": "code",
      "source": [
        "# Test with new threshold\n",
        "threshold = 0.673993\n",
        "y_pred2 = (model.predict_proba(X_test)[:, 1] > threshold).astype('float')\n",
        "accuracy = accuracy_score(y_test, y_pred2)\n",
        "# Confusion matrix\n",
        "cm1 = confusion_matrix(y_test, y_pred2)\n",
        "print(cm1)\n",
        "# Classification report\n",
        "print(classification_report(y_test,y_pred2))\n",
        "print(\"Logistic Accuracy: %.2f%%\" % (accuracy * 100.0))"
      ],
      "metadata": {
        "id": "LKepn3s3wspp",
        "colab": {
          "base_uri": "https://localhost:8080/"
        },
        "outputId": "4e49e1ea-cefe-458c-97ca-4320abd8f1dd"
      },
      "execution_count": null,
      "outputs": [
        {
          "output_type": "stream",
          "name": "stdout",
          "text": [
            "[[30 12]\n",
            " [20 57]]\n",
            "              precision    recall  f1-score   support\n",
            "\n",
            "         0.0       0.60      0.71      0.65        42\n",
            "         1.0       0.83      0.74      0.78        77\n",
            "\n",
            "    accuracy                           0.73       119\n",
            "   macro avg       0.71      0.73      0.72       119\n",
            "weighted avg       0.75      0.73      0.74       119\n",
            "\n",
            "Logistic Accuracy: 73.11%\n"
          ]
        }
      ]
    },
    {
      "cell_type": "markdown",
      "source": [
        "**Build model with KNN**"
      ],
      "metadata": {
        "id": "MUJtN7VRVWgc"
      }
    },
    {
      "cell_type": "code",
      "source": [
        "# Fit a model with default n_neighbors = 5\n",
        "model1 = KNeighborsClassifier(n_neighbors = 5, metric = 'minkowski', p = 2)\n",
        "model1.fit(X_train, y_train)"
      ],
      "metadata": {
        "id": "Huwnmlv8_Qi4",
        "colab": {
          "base_uri": "https://localhost:8080/"
        },
        "outputId": "3a2635ff-2c99-4a29-a417-5d2d53ada102"
      },
      "execution_count": null,
      "outputs": [
        {
          "output_type": "stream",
          "name": "stderr",
          "text": [
            "/usr/local/lib/python3.7/dist-packages/sklearn/neighbors/_classification.py:198: DataConversionWarning: A column-vector y was passed when a 1d array was expected. Please change the shape of y to (n_samples,), for example using ravel().\n",
            "  return self._fit(X, y)\n"
          ]
        },
        {
          "output_type": "execute_result",
          "data": {
            "text/plain": [
              "KNeighborsClassifier()"
            ]
          },
          "metadata": {},
          "execution_count": 31
        }
      ]
    },
    {
      "cell_type": "code",
      "source": [
        "# Predict probabilities\n",
        "y_pred3 = model1.predict(X_test)"
      ],
      "metadata": {
        "id": "6LBtg8uXCcT_"
      },
      "execution_count": null,
      "outputs": []
    },
    {
      "cell_type": "code",
      "source": [
        "# Report result of test data following model\n",
        "cm = confusion_matrix(y_test, y_pred3)\n",
        "accuracy1 = accuracy_score(y_test, y_pred3)\n",
        "# Confusion matrix\n",
        "print(cm)\n",
        "# Classification report\n",
        "print(classification_report(y_test,y_pred3))\n",
        "print(\"KNN Accuracy: %.2f%%\" % (accuracy1 * 100.0))"
      ],
      "metadata": {
        "id": "qFLjNGxCCfZF",
        "colab": {
          "base_uri": "https://localhost:8080/"
        },
        "outputId": "3083eccd-bc46-407a-94ab-1da2a9e9cdd9"
      },
      "execution_count": null,
      "outputs": [
        {
          "output_type": "stream",
          "name": "stdout",
          "text": [
            "[[14 28]\n",
            " [ 5 72]]\n",
            "              precision    recall  f1-score   support\n",
            "\n",
            "         0.0       0.74      0.33      0.46        42\n",
            "         1.0       0.72      0.94      0.81        77\n",
            "\n",
            "    accuracy                           0.72       119\n",
            "   macro avg       0.73      0.63      0.64       119\n",
            "weighted avg       0.73      0.72      0.69       119\n",
            "\n",
            "KNN Accuracy: 72.27%\n"
          ]
        }
      ]
    },
    {
      "cell_type": "markdown",
      "source": [
        "*Adjust model with new k*"
      ],
      "metadata": {
        "id": "zSCzW52BWx2q"
      }
    },
    {
      "cell_type": "code",
      "source": [
        "acc = []\n",
        "for i in range(1,40):\n",
        "    neigh = KNeighborsClassifier(n_neighbors = i).fit(X_train,y_train)\n",
        "    yhat = neigh.predict(X_test)\n",
        "    acc.append(metrics.accuracy_score(y_test, yhat))\n",
        "    \n",
        "plt.figure(figsize=(10,6))\n",
        "plt.plot(range(1,40),acc,color = 'blue',linestyle='dashed', \n",
        "         marker='o',markerfacecolor='red', markersize=10)\n",
        "plt.title('accuracy vs. K Value')\n",
        "plt.xlabel('K')\n",
        "plt.ylabel('Accuracy')\n",
        "print('Maximum accuracy:-',max(acc),'at K =',acc.index(max(acc)))"
      ],
      "metadata": {
        "id": "dHBPWO6oCjPB",
        "colab": {
          "base_uri": "https://localhost:8080/",
          "height": 1000
        },
        "outputId": "647b416f-db5f-4f4c-8c74-58f444c10614"
      },
      "execution_count": null,
      "outputs": [
        {
          "output_type": "stream",
          "name": "stderr",
          "text": [
            "/usr/local/lib/python3.7/dist-packages/sklearn/neighbors/_classification.py:198: DataConversionWarning: A column-vector y was passed when a 1d array was expected. Please change the shape of y to (n_samples,), for example using ravel().\n",
            "  return self._fit(X, y)\n",
            "/usr/local/lib/python3.7/dist-packages/sklearn/neighbors/_classification.py:198: DataConversionWarning: A column-vector y was passed when a 1d array was expected. Please change the shape of y to (n_samples,), for example using ravel().\n",
            "  return self._fit(X, y)\n",
            "/usr/local/lib/python3.7/dist-packages/sklearn/neighbors/_classification.py:198: DataConversionWarning: A column-vector y was passed when a 1d array was expected. Please change the shape of y to (n_samples,), for example using ravel().\n",
            "  return self._fit(X, y)\n",
            "/usr/local/lib/python3.7/dist-packages/sklearn/neighbors/_classification.py:198: DataConversionWarning: A column-vector y was passed when a 1d array was expected. Please change the shape of y to (n_samples,), for example using ravel().\n",
            "  return self._fit(X, y)\n",
            "/usr/local/lib/python3.7/dist-packages/sklearn/neighbors/_classification.py:198: DataConversionWarning: A column-vector y was passed when a 1d array was expected. Please change the shape of y to (n_samples,), for example using ravel().\n",
            "  return self._fit(X, y)\n",
            "/usr/local/lib/python3.7/dist-packages/sklearn/neighbors/_classification.py:198: DataConversionWarning: A column-vector y was passed when a 1d array was expected. Please change the shape of y to (n_samples,), for example using ravel().\n",
            "  return self._fit(X, y)\n",
            "/usr/local/lib/python3.7/dist-packages/sklearn/neighbors/_classification.py:198: DataConversionWarning: A column-vector y was passed when a 1d array was expected. Please change the shape of y to (n_samples,), for example using ravel().\n",
            "  return self._fit(X, y)\n",
            "/usr/local/lib/python3.7/dist-packages/sklearn/neighbors/_classification.py:198: DataConversionWarning: A column-vector y was passed when a 1d array was expected. Please change the shape of y to (n_samples,), for example using ravel().\n",
            "  return self._fit(X, y)\n",
            "/usr/local/lib/python3.7/dist-packages/sklearn/neighbors/_classification.py:198: DataConversionWarning: A column-vector y was passed when a 1d array was expected. Please change the shape of y to (n_samples,), for example using ravel().\n",
            "  return self._fit(X, y)\n",
            "/usr/local/lib/python3.7/dist-packages/sklearn/neighbors/_classification.py:198: DataConversionWarning: A column-vector y was passed when a 1d array was expected. Please change the shape of y to (n_samples,), for example using ravel().\n",
            "  return self._fit(X, y)\n",
            "/usr/local/lib/python3.7/dist-packages/sklearn/neighbors/_classification.py:198: DataConversionWarning: A column-vector y was passed when a 1d array was expected. Please change the shape of y to (n_samples,), for example using ravel().\n",
            "  return self._fit(X, y)\n",
            "/usr/local/lib/python3.7/dist-packages/sklearn/neighbors/_classification.py:198: DataConversionWarning: A column-vector y was passed when a 1d array was expected. Please change the shape of y to (n_samples,), for example using ravel().\n",
            "  return self._fit(X, y)\n",
            "/usr/local/lib/python3.7/dist-packages/sklearn/neighbors/_classification.py:198: DataConversionWarning: A column-vector y was passed when a 1d array was expected. Please change the shape of y to (n_samples,), for example using ravel().\n",
            "  return self._fit(X, y)\n",
            "/usr/local/lib/python3.7/dist-packages/sklearn/neighbors/_classification.py:198: DataConversionWarning: A column-vector y was passed when a 1d array was expected. Please change the shape of y to (n_samples,), for example using ravel().\n",
            "  return self._fit(X, y)\n",
            "/usr/local/lib/python3.7/dist-packages/sklearn/neighbors/_classification.py:198: DataConversionWarning: A column-vector y was passed when a 1d array was expected. Please change the shape of y to (n_samples,), for example using ravel().\n",
            "  return self._fit(X, y)\n",
            "/usr/local/lib/python3.7/dist-packages/sklearn/neighbors/_classification.py:198: DataConversionWarning: A column-vector y was passed when a 1d array was expected. Please change the shape of y to (n_samples,), for example using ravel().\n",
            "  return self._fit(X, y)\n",
            "/usr/local/lib/python3.7/dist-packages/sklearn/neighbors/_classification.py:198: DataConversionWarning: A column-vector y was passed when a 1d array was expected. Please change the shape of y to (n_samples,), for example using ravel().\n",
            "  return self._fit(X, y)\n",
            "/usr/local/lib/python3.7/dist-packages/sklearn/neighbors/_classification.py:198: DataConversionWarning: A column-vector y was passed when a 1d array was expected. Please change the shape of y to (n_samples,), for example using ravel().\n",
            "  return self._fit(X, y)\n",
            "/usr/local/lib/python3.7/dist-packages/sklearn/neighbors/_classification.py:198: DataConversionWarning: A column-vector y was passed when a 1d array was expected. Please change the shape of y to (n_samples,), for example using ravel().\n",
            "  return self._fit(X, y)\n",
            "/usr/local/lib/python3.7/dist-packages/sklearn/neighbors/_classification.py:198: DataConversionWarning: A column-vector y was passed when a 1d array was expected. Please change the shape of y to (n_samples,), for example using ravel().\n",
            "  return self._fit(X, y)\n",
            "/usr/local/lib/python3.7/dist-packages/sklearn/neighbors/_classification.py:198: DataConversionWarning: A column-vector y was passed when a 1d array was expected. Please change the shape of y to (n_samples,), for example using ravel().\n",
            "  return self._fit(X, y)\n",
            "/usr/local/lib/python3.7/dist-packages/sklearn/neighbors/_classification.py:198: DataConversionWarning: A column-vector y was passed when a 1d array was expected. Please change the shape of y to (n_samples,), for example using ravel().\n",
            "  return self._fit(X, y)\n",
            "/usr/local/lib/python3.7/dist-packages/sklearn/neighbors/_classification.py:198: DataConversionWarning: A column-vector y was passed when a 1d array was expected. Please change the shape of y to (n_samples,), for example using ravel().\n",
            "  return self._fit(X, y)\n",
            "/usr/local/lib/python3.7/dist-packages/sklearn/neighbors/_classification.py:198: DataConversionWarning: A column-vector y was passed when a 1d array was expected. Please change the shape of y to (n_samples,), for example using ravel().\n",
            "  return self._fit(X, y)\n",
            "/usr/local/lib/python3.7/dist-packages/sklearn/neighbors/_classification.py:198: DataConversionWarning: A column-vector y was passed when a 1d array was expected. Please change the shape of y to (n_samples,), for example using ravel().\n",
            "  return self._fit(X, y)\n",
            "/usr/local/lib/python3.7/dist-packages/sklearn/neighbors/_classification.py:198: DataConversionWarning: A column-vector y was passed when a 1d array was expected. Please change the shape of y to (n_samples,), for example using ravel().\n",
            "  return self._fit(X, y)\n",
            "/usr/local/lib/python3.7/dist-packages/sklearn/neighbors/_classification.py:198: DataConversionWarning: A column-vector y was passed when a 1d array was expected. Please change the shape of y to (n_samples,), for example using ravel().\n",
            "  return self._fit(X, y)\n",
            "/usr/local/lib/python3.7/dist-packages/sklearn/neighbors/_classification.py:198: DataConversionWarning: A column-vector y was passed when a 1d array was expected. Please change the shape of y to (n_samples,), for example using ravel().\n",
            "  return self._fit(X, y)\n",
            "/usr/local/lib/python3.7/dist-packages/sklearn/neighbors/_classification.py:198: DataConversionWarning: A column-vector y was passed when a 1d array was expected. Please change the shape of y to (n_samples,), for example using ravel().\n",
            "  return self._fit(X, y)\n",
            "/usr/local/lib/python3.7/dist-packages/sklearn/neighbors/_classification.py:198: DataConversionWarning: A column-vector y was passed when a 1d array was expected. Please change the shape of y to (n_samples,), for example using ravel().\n",
            "  return self._fit(X, y)\n",
            "/usr/local/lib/python3.7/dist-packages/sklearn/neighbors/_classification.py:198: DataConversionWarning: A column-vector y was passed when a 1d array was expected. Please change the shape of y to (n_samples,), for example using ravel().\n",
            "  return self._fit(X, y)\n",
            "/usr/local/lib/python3.7/dist-packages/sklearn/neighbors/_classification.py:198: DataConversionWarning: A column-vector y was passed when a 1d array was expected. Please change the shape of y to (n_samples,), for example using ravel().\n",
            "  return self._fit(X, y)\n",
            "/usr/local/lib/python3.7/dist-packages/sklearn/neighbors/_classification.py:198: DataConversionWarning: A column-vector y was passed when a 1d array was expected. Please change the shape of y to (n_samples,), for example using ravel().\n",
            "  return self._fit(X, y)\n",
            "/usr/local/lib/python3.7/dist-packages/sklearn/neighbors/_classification.py:198: DataConversionWarning: A column-vector y was passed when a 1d array was expected. Please change the shape of y to (n_samples,), for example using ravel().\n",
            "  return self._fit(X, y)\n",
            "/usr/local/lib/python3.7/dist-packages/sklearn/neighbors/_classification.py:198: DataConversionWarning: A column-vector y was passed when a 1d array was expected. Please change the shape of y to (n_samples,), for example using ravel().\n",
            "  return self._fit(X, y)\n",
            "/usr/local/lib/python3.7/dist-packages/sklearn/neighbors/_classification.py:198: DataConversionWarning: A column-vector y was passed when a 1d array was expected. Please change the shape of y to (n_samples,), for example using ravel().\n",
            "  return self._fit(X, y)\n",
            "/usr/local/lib/python3.7/dist-packages/sklearn/neighbors/_classification.py:198: DataConversionWarning: A column-vector y was passed when a 1d array was expected. Please change the shape of y to (n_samples,), for example using ravel().\n",
            "  return self._fit(X, y)\n",
            "/usr/local/lib/python3.7/dist-packages/sklearn/neighbors/_classification.py:198: DataConversionWarning: A column-vector y was passed when a 1d array was expected. Please change the shape of y to (n_samples,), for example using ravel().\n",
            "  return self._fit(X, y)\n",
            "/usr/local/lib/python3.7/dist-packages/sklearn/neighbors/_classification.py:198: DataConversionWarning: A column-vector y was passed when a 1d array was expected. Please change the shape of y to (n_samples,), for example using ravel().\n",
            "  return self._fit(X, y)\n"
          ]
        },
        {
          "output_type": "stream",
          "name": "stdout",
          "text": [
            "Maximum accuracy:- 0.7478991596638656 at K = 5\n"
          ]
        },
        {
          "output_type": "display_data",
          "data": {
            "text/plain": [
              "<Figure size 720x432 with 1 Axes>"
            ],
            "image/png": "[encoded data removed]"
          },
          "metadata": {
            "needs_background": "light"
          }
        }
      ]
    },
    {
      "cell_type": "markdown",
      "source": [
        "*Because KNN has default k = 5, model will not change k and remain.*"
      ],
      "metadata": {
        "id": "ep-erpSqW7WH"
      }
    },
    {
      "cell_type": "markdown",
      "source": [
        "**Build model with XG Boost**"
      ],
      "metadata": {
        "id": "vx3wgpOEY1xI"
      }
    },
    {
      "cell_type": "code",
      "source": [
        "# Fit a model\n",
        "model2 = XGBClassifier() \n",
        "model2.fit(X_train, y_train)"
      ],
      "metadata": {
        "colab": {
          "base_uri": "https://localhost:8080/"
        },
        "id": "qJmGaS5bX8Vo",
        "outputId": "949502dd-b33f-49c8-8b26-40e0a7d9c551"
      },
      "execution_count": null,
      "outputs": [
        {
          "output_type": "stream",
          "name": "stderr",
          "text": [
            "/usr/local/lib/python3.7/dist-packages/sklearn/preprocessing/_label.py:98: DataConversionWarning: A column-vector y was passed when a 1d array was expected. Please change the shape of y to (n_samples, ), for example using ravel().\n",
            "  y = column_or_1d(y, warn=True)\n",
            "/usr/local/lib/python3.7/dist-packages/sklearn/preprocessing/_label.py:133: DataConversionWarning: A column-vector y was passed when a 1d array was expected. Please change the shape of y to (n_samples, ), for example using ravel().\n",
            "  y = column_or_1d(y, warn=True)\n"
          ]
        },
        {
          "output_type": "execute_result",
          "data": {
            "text/plain": [
              "XGBClassifier()"
            ]
          },
          "metadata": {},
          "execution_count": 35
        }
      ]
    },
    {
      "cell_type": "code",
      "source": [
        "# Predict probabilities\n",
        "y_pred4 = model2.predict(X_test)"
      ],
      "metadata": {
        "id": "xNyC_XmCYaCS"
      },
      "execution_count": null,
      "outputs": []
    },
    {
      "cell_type": "code",
      "source": [
        "# Report result of test data following model\n",
        "cm = confusion_matrix(y_test, y_pred4)\n",
        "accuracy2 = accuracy_score(y_test, y_pred4)\n",
        "# Confusion matrix\n",
        "print(cm)\n",
        "# Classification report\n",
        "print(classification_report(y_test,y_pred4))\n",
        "print(\"XG Boost Accuracy: %.2f%%\" % (accuracy2 * 100.0))"
      ],
      "metadata": {
        "colab": {
          "base_uri": "https://localhost:8080/"
        },
        "id": "avXJdPInYjoj",
        "outputId": "5876d8dd-2456-45d4-fccc-d09b3c15c069"
      },
      "execution_count": null,
      "outputs": [
        {
          "output_type": "stream",
          "name": "stdout",
          "text": [
            "[[16 26]\n",
            " [ 5 72]]\n",
            "              precision    recall  f1-score   support\n",
            "\n",
            "         0.0       0.76      0.38      0.51        42\n",
            "         1.0       0.73      0.94      0.82        77\n",
            "\n",
            "    accuracy                           0.74       119\n",
            "   macro avg       0.75      0.66      0.67       119\n",
            "weighted avg       0.74      0.74      0.71       119\n",
            "\n",
            "XG Boost Accuracy: 73.95%\n"
          ]
        }
      ]
    },
    {
      "cell_type": "markdown",
      "source": [
        "*Adjust model*"
      ],
      "metadata": {
        "id": "Oo4EWH6ZY8Mt"
      }
    },
    {
      "cell_type": "code",
      "source": [
        "# Grid Search \n",
        "learning_rate = [0.01, 0.1, 0.2] \n",
        "max_depth = [6]\n",
        "booster = ['gbtree']\n",
        "n_estimators = [100]\n",
        "nthread = [6]\n",
        "min_child_weight = [1,5,10,20,30]\n",
        "\n",
        "param_grid = dict(min_child_weight=min_child_weight, nthread=nthread, learning_rate=learning_rate, max_depth=max_depth, booster=booster, n_estimators=n_estimators)\n",
        "kfold = StratifiedKFold(n_splits=5, shuffle=True, random_state=7) \n",
        "grid_search = GridSearchCV(model2, param_grid, scoring='accuracy', n_jobs = 10, cv=kfold) \n",
        "grid_result = grid_search.fit(X_train, y_train)"
      ],
      "metadata": {
        "id": "Cn_zzkuEWUYw",
        "colab": {
          "base_uri": "https://localhost:8080/"
        },
        "outputId": "68a73fa3-ba84-4e78-f43c-fb1e80c13639"
      },
      "execution_count": null,
      "outputs": [
        {
          "output_type": "stream",
          "name": "stderr",
          "text": [
            "/usr/local/lib/python3.7/dist-packages/sklearn/preprocessing/_label.py:98: DataConversionWarning: A column-vector y was passed when a 1d array was expected. Please change the shape of y to (n_samples, ), for example using ravel().\n",
            "  y = column_or_1d(y, warn=True)\n",
            "/usr/local/lib/python3.7/dist-packages/sklearn/preprocessing/_label.py:133: DataConversionWarning: A column-vector y was passed when a 1d array was expected. Please change the shape of y to (n_samples, ), for example using ravel().\n",
            "  y = column_or_1d(y, warn=True)\n"
          ]
        }
      ]
    },
    {
      "cell_type": "code",
      "source": [
        "# Summarize results   \n",
        "print(\"Best: %f using %s\" % (grid_result.best_score_, grid_result.best_params_))\n",
        "means = grid_result.cv_results_['mean_test_score'] \n",
        "stds = grid_result.cv_results_['std_test_score'] \n",
        "params = grid_result.cv_results_['params']"
      ],
      "metadata": {
        "id": "ax2TmXPkUgC3",
        "colab": {
          "base_uri": "https://localhost:8080/"
        },
        "outputId": "37e4228f-36c0-41dc-da39-9c93060384a2"
      },
      "execution_count": null,
      "outputs": [
        {
          "output_type": "stream",
          "name": "stdout",
          "text": [
            "Best: 0.764211 using {'booster': 'gbtree', 'learning_rate': 0.01, 'max_depth': 6, 'min_child_weight': 10, 'n_estimators': 100, 'nthread': 6}\n"
          ]
        }
      ]
    },
    {
      "cell_type": "code",
      "source": [
        "# Evaluate of predictions \n",
        "model3 = grid_search.best_estimator_\n",
        "y_pred5 = model3.predict(X_test)"
      ],
      "metadata": {
        "id": "0oavspgNUg2C"
      },
      "execution_count": null,
      "outputs": []
    },
    {
      "cell_type": "code",
      "source": [
        "# Report result of test data following model\n",
        "cm = confusion_matrix(y_test, y_pred5)\n",
        "accuracy3 = accuracy_score(y_test, y_pred5)\n",
        "# Confusion matrix\n",
        "print(cm)\n",
        "accuracy_score(y_test, y_pred5)\n",
        "# Classification report\n",
        "print(classification_report(y_test,y_pred5))\n",
        "print(\"XG Boost Accuracy: %.2f%%\" % (accuracy3 * 100.0))"
      ],
      "metadata": {
        "id": "0NXkupMiUuTk",
        "colab": {
          "base_uri": "https://localhost:8080/"
        },
        "outputId": "29a8ee49-391d-4a42-865f-1a3e9886af46"
      },
      "execution_count": null,
      "outputs": [
        {
          "output_type": "stream",
          "name": "stdout",
          "text": [
            "[[14 28]\n",
            " [ 4 73]]\n",
            "              precision    recall  f1-score   support\n",
            "\n",
            "         0.0       0.78      0.33      0.47        42\n",
            "         1.0       0.72      0.95      0.82        77\n",
            "\n",
            "    accuracy                           0.73       119\n",
            "   macro avg       0.75      0.64      0.64       119\n",
            "weighted avg       0.74      0.73      0.70       119\n",
            "\n",
            "XG Boost Accuracy: 73.11%\n"
          ]
        }
      ]
    }
  ]
}